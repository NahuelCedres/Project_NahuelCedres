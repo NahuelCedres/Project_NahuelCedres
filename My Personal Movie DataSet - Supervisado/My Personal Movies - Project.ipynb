{
 "cells": [
  {
   "cell_type": "markdown",
   "id": "9b43f3f7",
   "metadata": {},
   "source": [
    "#  Análisis Supervisado de Clasificación\n",
    "\n",
    "## Dataset de gustos de peliculas"
   ]
  },
  {
   "cell_type": "markdown",
   "id": "a3149731",
   "metadata": {},
   "source": [
    "Dicho dataset a analizar contiene distintas clasificaciones de una persona respecto a varias peliculas que vio.\n",
    "En el presente proyecto iremos desarrollando distintas maneras de analizarlo en base a diferentes tecnicas.\n",
    "Daremos uso de bosques aleatorios, SVM, regresión logística y KNN."
   ]
  },
  {
   "cell_type": "markdown",
   "id": "9bbd8c6a",
   "metadata": {},
   "source": [
    "## Análisis exploratorio de los datos"
   ]
  },
  {
   "cell_type": "code",
   "execution_count": 1,
   "id": "9ab6f689",
   "metadata": {},
   "outputs": [],
   "source": [
    "#Libreria que vamos a utilizar para el análisis\n",
    "import pandas as pd#Para cargar y manipular la base de datos\n",
    "import matplotlib.pyplot as plt#Graficos\n",
    "import random#Establecer una semilla aleatoria para que el ejercicio se compute exactamente igual"
   ]
  },
  {
   "cell_type": "code",
   "execution_count": 2,
   "id": "961d4f7c",
   "metadata": {},
   "outputs": [],
   "source": [
    "start = pd.read_excel(r\"C:\\Users\\Nahuel\\Desktop\\DataSets a Estudiar\\My Personal Movie DataSet\\data.xlsx\")#Cargamos la tabla\n",
    "random.seed(21)#Semilla"
   ]
  },
  {
   "cell_type": "code",
   "execution_count": 3,
   "id": "4e011a16",
   "metadata": {
    "scrolled": true
   },
   "outputs": [
    {
     "data": {
      "text/plain": [
       "(330, 12)"
      ]
     },
     "execution_count": 3,
     "metadata": {},
     "output_type": "execute_result"
    }
   ],
   "source": [
    "start.shape#Observamos las dimensiones, esta bien saberlas desde un principio, ya que luego procederemos a filtrar los NaN's"
   ]
  },
  {
   "cell_type": "code",
   "execution_count": 4,
   "id": "8dab5b5c",
   "metadata": {},
   "outputs": [
    {
     "data": {
      "text/html": [
       "<div>\n",
       "<style scoped>\n",
       "    .dataframe tbody tr th:only-of-type {\n",
       "        vertical-align: middle;\n",
       "    }\n",
       "\n",
       "    .dataframe tbody tr th {\n",
       "        vertical-align: top;\n",
       "    }\n",
       "\n",
       "    .dataframe thead th {\n",
       "        text-align: right;\n",
       "    }\n",
       "</style>\n",
       "<table border=\"1\" class=\"dataframe\">\n",
       "  <thead>\n",
       "    <tr style=\"text-align: right;\">\n",
       "      <th></th>\n",
       "      <th>RNK</th>\n",
       "      <th>TITLE</th>\n",
       "      <th>RATE</th>\n",
       "      <th>DIRECTOR</th>\n",
       "      <th>YEAR</th>\n",
       "      <th>GENRE 1</th>\n",
       "      <th>GENRE 2</th>\n",
       "      <th>ACT 1</th>\n",
       "      <th>ACT 2</th>\n",
       "      <th>ACT 3</th>\n",
       "      <th>ACT 4</th>\n",
       "      <th>ACT 5</th>\n",
       "    </tr>\n",
       "  </thead>\n",
       "  <tbody>\n",
       "    <tr>\n",
       "      <th>0</th>\n",
       "      <td>1</td>\n",
       "      <td>The Prestige</td>\n",
       "      <td>10.0</td>\n",
       "      <td>Christopher Nolan</td>\n",
       "      <td>2006</td>\n",
       "      <td>Mystery</td>\n",
       "      <td>Sci-Fi</td>\n",
       "      <td>Christian Bale</td>\n",
       "      <td>Hugh Jackman</td>\n",
       "      <td>Michael Caine</td>\n",
       "      <td>Scarlett Johansson</td>\n",
       "      <td>Andy Serkis</td>\n",
       "    </tr>\n",
       "    <tr>\n",
       "      <th>1</th>\n",
       "      <td>2</td>\n",
       "      <td>Interstellar</td>\n",
       "      <td>10.0</td>\n",
       "      <td>Christopher Nolan</td>\n",
       "      <td>2014</td>\n",
       "      <td>Sci-Fi</td>\n",
       "      <td>Adventure</td>\n",
       "      <td>Matthew McConaughey</td>\n",
       "      <td>Anne Hathaway</td>\n",
       "      <td>Michael Caine</td>\n",
       "      <td>Jessica Chastain</td>\n",
       "      <td>Timothée Chalamet</td>\n",
       "    </tr>\n",
       "    <tr>\n",
       "      <th>2</th>\n",
       "      <td>3</td>\n",
       "      <td>Inception</td>\n",
       "      <td>10.0</td>\n",
       "      <td>Christopher Nolan</td>\n",
       "      <td>2010</td>\n",
       "      <td>Sci-Fi</td>\n",
       "      <td>Adventure</td>\n",
       "      <td>Leonardo DiCaprio</td>\n",
       "      <td>Cillian Murphy</td>\n",
       "      <td>Michael Caine</td>\n",
       "      <td>Marion Cotillard</td>\n",
       "      <td>Joseph Gordon-Levitt</td>\n",
       "    </tr>\n",
       "    <tr>\n",
       "      <th>3</th>\n",
       "      <td>4</td>\n",
       "      <td>Cars</td>\n",
       "      <td>9.0</td>\n",
       "      <td>John Lasseter</td>\n",
       "      <td>2006</td>\n",
       "      <td>Animation</td>\n",
       "      <td>Sport</td>\n",
       "      <td>NaN</td>\n",
       "      <td>NaN</td>\n",
       "      <td>NaN</td>\n",
       "      <td>NaN</td>\n",
       "      <td>NaN</td>\n",
       "    </tr>\n",
       "    <tr>\n",
       "      <th>4</th>\n",
       "      <td>5</td>\n",
       "      <td>Predestination</td>\n",
       "      <td>9.0</td>\n",
       "      <td>Michal Spierig</td>\n",
       "      <td>2014</td>\n",
       "      <td>Sci-Fi</td>\n",
       "      <td>Drama</td>\n",
       "      <td>Ethan Hawke</td>\n",
       "      <td>Noah Taylor</td>\n",
       "      <td>Sarah Snook</td>\n",
       "      <td>Madeleine West</td>\n",
       "      <td>Christopher Kirby</td>\n",
       "    </tr>\n",
       "  </tbody>\n",
       "</table>\n",
       "</div>"
      ],
      "text/plain": [
       "   RNK           TITLE  RATE           DIRECTOR  YEAR    GENRE 1    GENRE 2  \\\n",
       "0    1    The Prestige  10.0  Christopher Nolan  2006    Mystery     Sci-Fi   \n",
       "1    2    Interstellar  10.0  Christopher Nolan  2014     Sci-Fi  Adventure   \n",
       "2    3       Inception  10.0  Christopher Nolan  2010     Sci-Fi  Adventure   \n",
       "3    4            Cars   9.0      John Lasseter  2006  Animation      Sport   \n",
       "4    5  Predestination   9.0     Michal Spierig  2014     Sci-Fi      Drama   \n",
       "\n",
       "                 ACT 1           ACT 2          ACT 3               ACT 4  \\\n",
       "0       Christian Bale    Hugh Jackman  Michael Caine  Scarlett Johansson   \n",
       "1  Matthew McConaughey   Anne Hathaway  Michael Caine    Jessica Chastain   \n",
       "2    Leonardo DiCaprio  Cillian Murphy  Michael Caine    Marion Cotillard   \n",
       "3                  NaN             NaN            NaN                 NaN   \n",
       "4          Ethan Hawke     Noah Taylor    Sarah Snook      Madeleine West   \n",
       "\n",
       "                  ACT 5  \n",
       "0           Andy Serkis  \n",
       "1     Timothée Chalamet  \n",
       "2  Joseph Gordon-Levitt  \n",
       "3                   NaN  \n",
       "4     Christopher Kirby  "
      ]
     },
     "execution_count": 4,
     "metadata": {},
     "output_type": "execute_result"
    }
   ],
   "source": [
    "start.head()#Los datos resultan estar bien cargados"
   ]
  },
  {
   "cell_type": "code",
   "execution_count": 5,
   "id": "2a9c3bb1",
   "metadata": {},
   "outputs": [],
   "source": [
    "df = start.drop([\"RNK\"], axis=1)#Elegimos dropear RNK ya que es una variable sin valor en este caso, \n",
    "#RNK estaria cumpliendo el mismo proposito del indice, ya que estan ordenados"
   ]
  },
  {
   "cell_type": "code",
   "execution_count": 6,
   "id": "c82cc84f",
   "metadata": {
    "scrolled": true
   },
   "outputs": [
    {
     "data": {
      "text/html": [
       "<div>\n",
       "<style scoped>\n",
       "    .dataframe tbody tr th:only-of-type {\n",
       "        vertical-align: middle;\n",
       "    }\n",
       "\n",
       "    .dataframe tbody tr th {\n",
       "        vertical-align: top;\n",
       "    }\n",
       "\n",
       "    .dataframe thead th {\n",
       "        text-align: right;\n",
       "    }\n",
       "</style>\n",
       "<table border=\"1\" class=\"dataframe\">\n",
       "  <thead>\n",
       "    <tr style=\"text-align: right;\">\n",
       "      <th></th>\n",
       "      <th>TITLE</th>\n",
       "      <th>RATE</th>\n",
       "      <th>DIRECTOR</th>\n",
       "      <th>YEAR</th>\n",
       "      <th>GENRE 1</th>\n",
       "      <th>GENRE 2</th>\n",
       "      <th>ACT 1</th>\n",
       "      <th>ACT 2</th>\n",
       "      <th>ACT 3</th>\n",
       "      <th>ACT 4</th>\n",
       "      <th>ACT 5</th>\n",
       "    </tr>\n",
       "  </thead>\n",
       "  <tbody>\n",
       "    <tr>\n",
       "      <th>0</th>\n",
       "      <td>The Prestige</td>\n",
       "      <td>10.0</td>\n",
       "      <td>Christopher Nolan</td>\n",
       "      <td>2006</td>\n",
       "      <td>Mystery</td>\n",
       "      <td>Sci-Fi</td>\n",
       "      <td>Christian Bale</td>\n",
       "      <td>Hugh Jackman</td>\n",
       "      <td>Michael Caine</td>\n",
       "      <td>Scarlett Johansson</td>\n",
       "      <td>Andy Serkis</td>\n",
       "    </tr>\n",
       "    <tr>\n",
       "      <th>1</th>\n",
       "      <td>Interstellar</td>\n",
       "      <td>10.0</td>\n",
       "      <td>Christopher Nolan</td>\n",
       "      <td>2014</td>\n",
       "      <td>Sci-Fi</td>\n",
       "      <td>Adventure</td>\n",
       "      <td>Matthew McConaughey</td>\n",
       "      <td>Anne Hathaway</td>\n",
       "      <td>Michael Caine</td>\n",
       "      <td>Jessica Chastain</td>\n",
       "      <td>Timothée Chalamet</td>\n",
       "    </tr>\n",
       "    <tr>\n",
       "      <th>2</th>\n",
       "      <td>Inception</td>\n",
       "      <td>10.0</td>\n",
       "      <td>Christopher Nolan</td>\n",
       "      <td>2010</td>\n",
       "      <td>Sci-Fi</td>\n",
       "      <td>Adventure</td>\n",
       "      <td>Leonardo DiCaprio</td>\n",
       "      <td>Cillian Murphy</td>\n",
       "      <td>Michael Caine</td>\n",
       "      <td>Marion Cotillard</td>\n",
       "      <td>Joseph Gordon-Levitt</td>\n",
       "    </tr>\n",
       "    <tr>\n",
       "      <th>3</th>\n",
       "      <td>Cars</td>\n",
       "      <td>9.0</td>\n",
       "      <td>John Lasseter</td>\n",
       "      <td>2006</td>\n",
       "      <td>Animation</td>\n",
       "      <td>Sport</td>\n",
       "      <td>NaN</td>\n",
       "      <td>NaN</td>\n",
       "      <td>NaN</td>\n",
       "      <td>NaN</td>\n",
       "      <td>NaN</td>\n",
       "    </tr>\n",
       "    <tr>\n",
       "      <th>4</th>\n",
       "      <td>Predestination</td>\n",
       "      <td>9.0</td>\n",
       "      <td>Michal Spierig</td>\n",
       "      <td>2014</td>\n",
       "      <td>Sci-Fi</td>\n",
       "      <td>Drama</td>\n",
       "      <td>Ethan Hawke</td>\n",
       "      <td>Noah Taylor</td>\n",
       "      <td>Sarah Snook</td>\n",
       "      <td>Madeleine West</td>\n",
       "      <td>Christopher Kirby</td>\n",
       "    </tr>\n",
       "  </tbody>\n",
       "</table>\n",
       "</div>"
      ],
      "text/plain": [
       "            TITLE  RATE           DIRECTOR  YEAR    GENRE 1    GENRE 2  \\\n",
       "0    The Prestige  10.0  Christopher Nolan  2006    Mystery     Sci-Fi   \n",
       "1    Interstellar  10.0  Christopher Nolan  2014     Sci-Fi  Adventure   \n",
       "2       Inception  10.0  Christopher Nolan  2010     Sci-Fi  Adventure   \n",
       "3            Cars   9.0      John Lasseter  2006  Animation      Sport   \n",
       "4  Predestination   9.0     Michal Spierig  2014     Sci-Fi      Drama   \n",
       "\n",
       "                 ACT 1           ACT 2          ACT 3               ACT 4  \\\n",
       "0       Christian Bale    Hugh Jackman  Michael Caine  Scarlett Johansson   \n",
       "1  Matthew McConaughey   Anne Hathaway  Michael Caine    Jessica Chastain   \n",
       "2    Leonardo DiCaprio  Cillian Murphy  Michael Caine    Marion Cotillard   \n",
       "3                  NaN             NaN            NaN                 NaN   \n",
       "4          Ethan Hawke     Noah Taylor    Sarah Snook      Madeleine West   \n",
       "\n",
       "                  ACT 5  \n",
       "0           Andy Serkis  \n",
       "1     Timothée Chalamet  \n",
       "2  Joseph Gordon-Levitt  \n",
       "3                   NaN  \n",
       "4     Christopher Kirby  "
      ]
     },
     "execution_count": 6,
     "metadata": {},
     "output_type": "execute_result"
    }
   ],
   "source": [
    "df.head()"
   ]
  },
  {
   "cell_type": "code",
   "execution_count": 7,
   "id": "a4dd3b8b",
   "metadata": {},
   "outputs": [
    {
     "data": {
      "text/plain": [
       "TITLE        object\n",
       "RATE        float64\n",
       "DIRECTOR     object\n",
       "YEAR          int64\n",
       "GENRE 1      object\n",
       "GENRE 2      object\n",
       "ACT 1        object\n",
       "ACT 2        object\n",
       "ACT 3        object\n",
       "ACT 4        object\n",
       "ACT 5        object\n",
       "dtype: object"
      ]
     },
     "execution_count": 7,
     "metadata": {},
     "output_type": "execute_result"
    }
   ],
   "source": [
    "df.dtypes#Realmente todos deberian de ser tratados como objetos, ya que el año en este dataframe cumple una funcion de variable\n",
    "#Categorica y no de continua, es una variable que le da un adjetivo al objeto, \n",
    "#no proporciona una evolucion en el tiempo.\n"
   ]
  },
  {
   "cell_type": "code",
   "execution_count": 8,
   "id": "2489dccf",
   "metadata": {},
   "outputs": [
    {
     "data": {
      "text/plain": [
       "(203, 11)"
      ]
     },
     "execution_count": 8,
     "metadata": {},
     "output_type": "execute_result"
    }
   ],
   "source": [
    "df = df.dropna()#Limpieza de NaN's antes de realizar un grafico de correlación, \n",
    "#este paso se realiza previamente a la creacion de dummies, de no hacerlo podriamos tener filas\n",
    "#repletas de 0 y no es lo ideal, podria sesgar el análisis.\n",
    "df.shape"
   ]
  },
  {
   "cell_type": "code",
   "execution_count": 9,
   "id": "06b13d42",
   "metadata": {},
   "outputs": [],
   "source": [
    "def CreateDummies(df, ColumnDividir):#Funcion para creacion de dummies\n",
    "    df2 = pd.get_dummies(df[ColumnDividir], prefix = ColumnDividir)\n",
    "    df = df.drop([ColumnDividir], axis = 1)\n",
    "    df = pd.concat([df, df2], axis = 1)\n",
    "    return df"
   ]
  },
  {
   "cell_type": "code",
   "execution_count": 10,
   "id": "3e680bf6",
   "metadata": {},
   "outputs": [],
   "source": [
    "df_a = df[[\"RATE\", \"GENRE 1\"]]#Selecciono solo Rate y GENRE 1, ya que queremos saber si existe preferencias en cuanto a generos \n",
    "#Por parte de nuestro cliente, público o socio.\n",
    "df_a = CreateDummies(df_a, \"GENRE 1\" )"
   ]
  },
  {
   "cell_type": "code",
   "execution_count": 11,
   "id": "f25db4c7",
   "metadata": {},
   "outputs": [
    {
     "data": {
      "image/png": "[encoded data removed]",
      "text/plain": [
       "<Figure size 1080x720 with 2 Axes>"
      ]
     },
     "metadata": {},
     "output_type": "display_data"
    }
   ],
   "source": [
    "import seaborn as sns#Libreria para creacion de graficos de calor\n",
    "sns.set(style = \"ticks\", color_codes=True)\n",
    "plt.figure(figsize=(15,10))\n",
    "sns.heatmap(df_a.corr(), annot=True)\n",
    "plt.show()\n",
    "#La fila/columna a observar debe ser la primera de todas en este caso, podemos notar que el consumidor tiene una preferencia \n",
    "#notable en 3 generos, como son la comedia, drama y biografias.\n",
    "#Esto es algo importante a recordar para mas adelante cuando trabajemos con seleccion de variables con SKLearn."
   ]
  },
  {
   "cell_type": "code",
   "execution_count": 12,
   "id": "c1b7bcdb",
   "metadata": {},
   "outputs": [
    {
     "data": {
      "text/plain": [
       "TITLE       object\n",
       "RATE        object\n",
       "DIRECTOR    object\n",
       "YEAR        object\n",
       "GENRE 1     object\n",
       "GENRE 2     object\n",
       "ACT 1       object\n",
       "ACT 2       object\n",
       "ACT 3       object\n",
       "ACT 4       object\n",
       "ACT 5       object\n",
       "dtype: object"
      ]
     },
     "execution_count": 12,
     "metadata": {},
     "output_type": "execute_result"
    }
   ],
   "source": [
    "df = df.astype(object)#Convertimos todos a objetos, aunque observaremos mas adelante como RATE lo volvemos a pasar a número.\n",
    "df.dtypes"
   ]
  },
  {
   "cell_type": "code",
   "execution_count": 13,
   "id": "90a8c516",
   "metadata": {
    "scrolled": true
   },
   "outputs": [
    {
     "data": {
      "text/plain": [
       "Text(0.5, 1.0, 'Frecuencia de Score de Películas')"
      ]
     },
     "execution_count": 13,
     "metadata": {},
     "output_type": "execute_result"
    },
    {
     "data": {
      "image/png": "[encoded data removed]",
      "text/plain": [
       "<Figure size 432x288 with 1 Axes>"
      ]
     },
     "metadata": {},
     "output_type": "display_data"
    }
   ],
   "source": [
    "plt.hist(df[\"RATE\"], bins = 10)\n",
    "plt.xlabel(\"score\")\n",
    "plt.ylabel(\"Frecuencia\")\n",
    "plt.title(\"Frecuencia de Score de Películas\")\n",
    "#Podemos observar que lo más frecuente es que vote entre 6 y 8.\n",
    "#Hay algo importante a fijarse, y es que la cantidad de votos con 2,3 y 10 son extremadamente bajos.\n",
    "#Esto podria darnos problemas con algoritmos como RandomForest, ya que ellos necesitan almenos 5 muestras para crear un nodo \n",
    "#de decisión. Ya podemos ir pensando que randomforest tal vez no sea la mejor manera de tratar este dataframe."
   ]
  },
  {
   "cell_type": "code",
   "execution_count": 14,
   "id": "22c85bc0",
   "metadata": {},
   "outputs": [
    {
     "data": {
      "text/plain": [
       "Text(0.5, 1.0, 'Frecuencia de Año de Estreno de Películas')"
      ]
     },
     "execution_count": 14,
     "metadata": {},
     "output_type": "execute_result"
    },
    {
     "data": {
      "image/png": "[encoded data removed]",
      "text/plain": [
       "<Figure size 432x288 with 1 Axes>"
      ]
     },
     "metadata": {},
     "output_type": "display_data"
    }
   ],
   "source": [
    "plt.hist(df[\"YEAR\"])\n",
    "plt.xlabel(\"score\")\n",
    "plt.ylabel(\"Frecuencia\")\n",
    "plt.title(\"Frecuencia de Año de Estreno de Películas\")\n",
    "#Notamos un sesgo importante, una gran parte de peliculas son de los ultimos 10 años."
   ]
  },
  {
   "cell_type": "code",
   "execution_count": 15,
   "id": "f16fa8c2",
   "metadata": {},
   "outputs": [
    {
     "data": {
      "text/plain": [
       "array(['Mystery', 'Sci-Fi', 'Biography', 'Drama', 'Romance', 'Crime',\n",
       "       'Action', 'Fantastic', 'Horror', 'Thriller', 'Comedy', 'Adventure',\n",
       "       'Animation'], dtype=object)"
      ]
     },
     "execution_count": 15,
     "metadata": {},
     "output_type": "execute_result"
    }
   ],
   "source": [
    "df[\"GENRE 1\"].unique() #Generos que existen en GENRE 1"
   ]
  },
  {
   "cell_type": "code",
   "execution_count": 16,
   "id": "4323b4f3",
   "metadata": {
    "scrolled": true
   },
   "outputs": [
    {
     "data": {
      "text/plain": [
       "GENRE 1\n",
       "Action       14\n",
       "Adventure     3\n",
       "Animation     2\n",
       "Biography    22\n",
       "Comedy       36\n",
       "Crime         6\n",
       "Drama        39\n",
       "Fantastic    30\n",
       "Horror        1\n",
       "Mystery      15\n",
       "Romance       1\n",
       "Sci-Fi       29\n",
       "Thriller      5\n",
       "Name: GENRE 1, dtype: int64"
      ]
     },
     "execution_count": 16,
     "metadata": {},
     "output_type": "execute_result"
    }
   ],
   "source": [
    "genre_count = df.groupby([\"GENRE 1\"])[\"GENRE 1\"].count()\n",
    "genre_count #Podemos ver que la mayoria de peliculas son de los generos de comedia y drama, lo cual puede estar sesgando a la correlacion que \n",
    "#evaluamos antes, o incluso sesgar la eleccion de variables."
   ]
  },
  {
   "cell_type": "code",
   "execution_count": 17,
   "id": "1c7952c6",
   "metadata": {},
   "outputs": [
    {
     "data": {
      "text/plain": [
       "['TITLE',\n",
       " 'RATE',\n",
       " 'DIRECTOR',\n",
       " 'YEAR',\n",
       " 'GENRE 1',\n",
       " 'GENRE 2',\n",
       " 'ACT 1',\n",
       " 'ACT 2',\n",
       " 'ACT 3',\n",
       " 'ACT 4',\n",
       " 'ACT 5']"
      ]
     },
     "execution_count": 17,
     "metadata": {},
     "output_type": "execute_result"
    }
   ],
   "source": [
    "df.columns.values.tolist()#Todas las columnas del dataframe"
   ]
  },
  {
   "cell_type": "markdown",
   "id": "921f6ebc",
   "metadata": {},
   "source": [
    "## Variable Target y Variables Predictoras"
   ]
  },
  {
   "cell_type": "markdown",
   "id": "ecce9444",
   "metadata": {},
   "source": [
    "En esta sección nos centraremos en ya ir moldeando tantos las variables X(nuestras variables que nos ayudan a predecir) como las \n",
    "variables Y(las que nos interesan predecir), daremos uso de la función de dummies que creamos antes y algunas técnicas para separar dichas variables de manera simple y efectiva."
   ]
  },
  {
   "cell_type": "code",
   "execution_count": 18,
   "id": "a0225599",
   "metadata": {},
   "outputs": [],
   "source": [
    "df = CreateDummies(df, \"GENRE 1\" )\n",
    "df = CreateDummies(df, \"GENRE 2\" )\n",
    "df = CreateDummies(df, \"YEAR\" )\n",
    "df = CreateDummies(df, \"DIRECTOR\" )\n",
    "df = CreateDummies(df, \"ACT 1\" )\n",
    "df = CreateDummies(df, \"ACT 2\" )\n",
    "df = CreateDummies(df, \"ACT 3\" )\n",
    "df = CreateDummies(df, \"ACT 4\" )\n",
    "df = CreateDummies(df, \"ACT 5\" )"
   ]
  },
  {
   "cell_type": "code",
   "execution_count": 19,
   "id": "9e7d22b0",
   "metadata": {},
   "outputs": [
    {
     "data": {
      "text/html": [
       "<div>\n",
       "<style scoped>\n",
       "    .dataframe tbody tr th:only-of-type {\n",
       "        vertical-align: middle;\n",
       "    }\n",
       "\n",
       "    .dataframe tbody tr th {\n",
       "        vertical-align: top;\n",
       "    }\n",
       "\n",
       "    .dataframe thead th {\n",
       "        text-align: right;\n",
       "    }\n",
       "</style>\n",
       "<table border=\"1\" class=\"dataframe\">\n",
       "  <thead>\n",
       "    <tr style=\"text-align: right;\">\n",
       "      <th></th>\n",
       "      <th>TITLE</th>\n",
       "      <th>RATE</th>\n",
       "      <th>GENRE 1_Action</th>\n",
       "      <th>GENRE 1_Adventure</th>\n",
       "      <th>GENRE 1_Animation</th>\n",
       "      <th>GENRE 1_Biography</th>\n",
       "      <th>GENRE 1_Comedy</th>\n",
       "      <th>GENRE 1_Crime</th>\n",
       "      <th>GENRE 1_Drama</th>\n",
       "      <th>GENRE 1_Fantastic</th>\n",
       "      <th>...</th>\n",
       "      <th>ACT 5_Yahya Abdul-Mateen II</th>\n",
       "      <th>ACT 5_Yuri Kolokolnikov</th>\n",
       "      <th>ACT 5_Zafer Algöz</th>\n",
       "      <th>ACT 5_Zeynep Karacan</th>\n",
       "      <th>ACT 5_Zihni Göktay</th>\n",
       "      <th>ACT 5_Zuleyka Silver</th>\n",
       "      <th>ACT 5_Çağlar Çorumlu</th>\n",
       "      <th>ACT 5_Özge Borak</th>\n",
       "      <th>ACT 5_İbrahim Büyükak</th>\n",
       "      <th>ACT 5_Şinasi Yurtsever</th>\n",
       "    </tr>\n",
       "  </thead>\n",
       "  <tbody>\n",
       "    <tr>\n",
       "      <th>0</th>\n",
       "      <td>The Prestige</td>\n",
       "      <td>10.0</td>\n",
       "      <td>0</td>\n",
       "      <td>0</td>\n",
       "      <td>0</td>\n",
       "      <td>0</td>\n",
       "      <td>0</td>\n",
       "      <td>0</td>\n",
       "      <td>0</td>\n",
       "      <td>0</td>\n",
       "      <td>...</td>\n",
       "      <td>0</td>\n",
       "      <td>0</td>\n",
       "      <td>0</td>\n",
       "      <td>0</td>\n",
       "      <td>0</td>\n",
       "      <td>0</td>\n",
       "      <td>0</td>\n",
       "      <td>0</td>\n",
       "      <td>0</td>\n",
       "      <td>0</td>\n",
       "    </tr>\n",
       "    <tr>\n",
       "      <th>1</th>\n",
       "      <td>Interstellar</td>\n",
       "      <td>10.0</td>\n",
       "      <td>0</td>\n",
       "      <td>0</td>\n",
       "      <td>0</td>\n",
       "      <td>0</td>\n",
       "      <td>0</td>\n",
       "      <td>0</td>\n",
       "      <td>0</td>\n",
       "      <td>0</td>\n",
       "      <td>...</td>\n",
       "      <td>0</td>\n",
       "      <td>0</td>\n",
       "      <td>0</td>\n",
       "      <td>0</td>\n",
       "      <td>0</td>\n",
       "      <td>0</td>\n",
       "      <td>0</td>\n",
       "      <td>0</td>\n",
       "      <td>0</td>\n",
       "      <td>0</td>\n",
       "    </tr>\n",
       "    <tr>\n",
       "      <th>2</th>\n",
       "      <td>Inception</td>\n",
       "      <td>10.0</td>\n",
       "      <td>0</td>\n",
       "      <td>0</td>\n",
       "      <td>0</td>\n",
       "      <td>0</td>\n",
       "      <td>0</td>\n",
       "      <td>0</td>\n",
       "      <td>0</td>\n",
       "      <td>0</td>\n",
       "      <td>...</td>\n",
       "      <td>0</td>\n",
       "      <td>0</td>\n",
       "      <td>0</td>\n",
       "      <td>0</td>\n",
       "      <td>0</td>\n",
       "      <td>0</td>\n",
       "      <td>0</td>\n",
       "      <td>0</td>\n",
       "      <td>0</td>\n",
       "      <td>0</td>\n",
       "    </tr>\n",
       "    <tr>\n",
       "      <th>4</th>\n",
       "      <td>Predestination</td>\n",
       "      <td>9.0</td>\n",
       "      <td>0</td>\n",
       "      <td>0</td>\n",
       "      <td>0</td>\n",
       "      <td>0</td>\n",
       "      <td>0</td>\n",
       "      <td>0</td>\n",
       "      <td>0</td>\n",
       "      <td>0</td>\n",
       "      <td>...</td>\n",
       "      <td>0</td>\n",
       "      <td>0</td>\n",
       "      <td>0</td>\n",
       "      <td>0</td>\n",
       "      <td>0</td>\n",
       "      <td>0</td>\n",
       "      <td>0</td>\n",
       "      <td>0</td>\n",
       "      <td>0</td>\n",
       "      <td>0</td>\n",
       "    </tr>\n",
       "    <tr>\n",
       "      <th>5</th>\n",
       "      <td>Rush</td>\n",
       "      <td>9.0</td>\n",
       "      <td>0</td>\n",
       "      <td>0</td>\n",
       "      <td>0</td>\n",
       "      <td>1</td>\n",
       "      <td>0</td>\n",
       "      <td>0</td>\n",
       "      <td>0</td>\n",
       "      <td>0</td>\n",
       "      <td>...</td>\n",
       "      <td>0</td>\n",
       "      <td>0</td>\n",
       "      <td>0</td>\n",
       "      <td>0</td>\n",
       "      <td>0</td>\n",
       "      <td>0</td>\n",
       "      <td>0</td>\n",
       "      <td>0</td>\n",
       "      <td>0</td>\n",
       "      <td>0</td>\n",
       "    </tr>\n",
       "  </tbody>\n",
       "</table>\n",
       "<p>5 rows × 997 columns</p>\n",
       "</div>"
      ],
      "text/plain": [
       "            TITLE  RATE  GENRE 1_Action  GENRE 1_Adventure  GENRE 1_Animation  \\\n",
       "0    The Prestige  10.0               0                  0                  0   \n",
       "1    Interstellar  10.0               0                  0                  0   \n",
       "2       Inception  10.0               0                  0                  0   \n",
       "4  Predestination   9.0               0                  0                  0   \n",
       "5            Rush   9.0               0                  0                  0   \n",
       "\n",
       "   GENRE 1_Biography  GENRE 1_Comedy  GENRE 1_Crime  GENRE 1_Drama  \\\n",
       "0                  0               0              0              0   \n",
       "1                  0               0              0              0   \n",
       "2                  0               0              0              0   \n",
       "4                  0               0              0              0   \n",
       "5                  1               0              0              0   \n",
       "\n",
       "   GENRE 1_Fantastic  ...  ACT 5_Yahya Abdul-Mateen II  \\\n",
       "0                  0  ...                            0   \n",
       "1                  0  ...                            0   \n",
       "2                  0  ...                            0   \n",
       "4                  0  ...                            0   \n",
       "5                  0  ...                            0   \n",
       "\n",
       "   ACT 5_Yuri Kolokolnikov  ACT 5_Zafer Algöz  ACT 5_Zeynep Karacan  \\\n",
       "0                        0                  0                     0   \n",
       "1                        0                  0                     0   \n",
       "2                        0                  0                     0   \n",
       "4                        0                  0                     0   \n",
       "5                        0                  0                     0   \n",
       "\n",
       "   ACT 5_Zihni Göktay  ACT 5_Zuleyka Silver  ACT 5_Çağlar Çorumlu  \\\n",
       "0                   0                     0                     0   \n",
       "1                   0                     0                     0   \n",
       "2                   0                     0                     0   \n",
       "4                   0                     0                     0   \n",
       "5                   0                     0                     0   \n",
       "\n",
       "   ACT 5_Özge Borak  ACT 5_İbrahim Büyükak  ACT 5_Şinasi Yurtsever  \n",
       "0                 0                      0                       0  \n",
       "1                 0                      0                       0  \n",
       "2                 0                      0                       0  \n",
       "4                 0                      0                       0  \n",
       "5                 0                      0                       0  \n",
       "\n",
       "[5 rows x 997 columns]"
      ]
     },
     "execution_count": 19,
     "metadata": {},
     "output_type": "execute_result"
    }
   ],
   "source": [
    "df.head()"
   ]
  },
  {
   "cell_type": "code",
   "execution_count": 20,
   "id": "14a5c2ac",
   "metadata": {},
   "outputs": [],
   "source": [
    "df = df.drop([\"TITLE\"], axis = 1)#El titulo no nos será util a la hora de predecir."
   ]
  },
  {
   "cell_type": "code",
   "execution_count": 21,
   "id": "e8ffbab9",
   "metadata": {},
   "outputs": [
    {
     "data": {
      "text/html": [
       "<div>\n",
       "<style scoped>\n",
       "    .dataframe tbody tr th:only-of-type {\n",
       "        vertical-align: middle;\n",
       "    }\n",
       "\n",
       "    .dataframe tbody tr th {\n",
       "        vertical-align: top;\n",
       "    }\n",
       "\n",
       "    .dataframe thead th {\n",
       "        text-align: right;\n",
       "    }\n",
       "</style>\n",
       "<table border=\"1\" class=\"dataframe\">\n",
       "  <thead>\n",
       "    <tr style=\"text-align: right;\">\n",
       "      <th></th>\n",
       "      <th>RATE</th>\n",
       "      <th>GENRE 1_Action</th>\n",
       "      <th>GENRE 1_Adventure</th>\n",
       "      <th>GENRE 1_Animation</th>\n",
       "      <th>GENRE 1_Biography</th>\n",
       "      <th>GENRE 1_Comedy</th>\n",
       "      <th>GENRE 1_Crime</th>\n",
       "      <th>GENRE 1_Drama</th>\n",
       "      <th>GENRE 1_Fantastic</th>\n",
       "      <th>GENRE 1_Horror</th>\n",
       "      <th>...</th>\n",
       "      <th>ACT 5_Yahya Abdul-Mateen II</th>\n",
       "      <th>ACT 5_Yuri Kolokolnikov</th>\n",
       "      <th>ACT 5_Zafer Algöz</th>\n",
       "      <th>ACT 5_Zeynep Karacan</th>\n",
       "      <th>ACT 5_Zihni Göktay</th>\n",
       "      <th>ACT 5_Zuleyka Silver</th>\n",
       "      <th>ACT 5_Çağlar Çorumlu</th>\n",
       "      <th>ACT 5_Özge Borak</th>\n",
       "      <th>ACT 5_İbrahim Büyükak</th>\n",
       "      <th>ACT 5_Şinasi Yurtsever</th>\n",
       "    </tr>\n",
       "  </thead>\n",
       "  <tbody>\n",
       "    <tr>\n",
       "      <th>0</th>\n",
       "      <td>10.0</td>\n",
       "      <td>0</td>\n",
       "      <td>0</td>\n",
       "      <td>0</td>\n",
       "      <td>0</td>\n",
       "      <td>0</td>\n",
       "      <td>0</td>\n",
       "      <td>0</td>\n",
       "      <td>0</td>\n",
       "      <td>0</td>\n",
       "      <td>...</td>\n",
       "      <td>0</td>\n",
       "      <td>0</td>\n",
       "      <td>0</td>\n",
       "      <td>0</td>\n",
       "      <td>0</td>\n",
       "      <td>0</td>\n",
       "      <td>0</td>\n",
       "      <td>0</td>\n",
       "      <td>0</td>\n",
       "      <td>0</td>\n",
       "    </tr>\n",
       "    <tr>\n",
       "      <th>1</th>\n",
       "      <td>10.0</td>\n",
       "      <td>0</td>\n",
       "      <td>0</td>\n",
       "      <td>0</td>\n",
       "      <td>0</td>\n",
       "      <td>0</td>\n",
       "      <td>0</td>\n",
       "      <td>0</td>\n",
       "      <td>0</td>\n",
       "      <td>0</td>\n",
       "      <td>...</td>\n",
       "      <td>0</td>\n",
       "      <td>0</td>\n",
       "      <td>0</td>\n",
       "      <td>0</td>\n",
       "      <td>0</td>\n",
       "      <td>0</td>\n",
       "      <td>0</td>\n",
       "      <td>0</td>\n",
       "      <td>0</td>\n",
       "      <td>0</td>\n",
       "    </tr>\n",
       "    <tr>\n",
       "      <th>2</th>\n",
       "      <td>10.0</td>\n",
       "      <td>0</td>\n",
       "      <td>0</td>\n",
       "      <td>0</td>\n",
       "      <td>0</td>\n",
       "      <td>0</td>\n",
       "      <td>0</td>\n",
       "      <td>0</td>\n",
       "      <td>0</td>\n",
       "      <td>0</td>\n",
       "      <td>...</td>\n",
       "      <td>0</td>\n",
       "      <td>0</td>\n",
       "      <td>0</td>\n",
       "      <td>0</td>\n",
       "      <td>0</td>\n",
       "      <td>0</td>\n",
       "      <td>0</td>\n",
       "      <td>0</td>\n",
       "      <td>0</td>\n",
       "      <td>0</td>\n",
       "    </tr>\n",
       "    <tr>\n",
       "      <th>4</th>\n",
       "      <td>9.0</td>\n",
       "      <td>0</td>\n",
       "      <td>0</td>\n",
       "      <td>0</td>\n",
       "      <td>0</td>\n",
       "      <td>0</td>\n",
       "      <td>0</td>\n",
       "      <td>0</td>\n",
       "      <td>0</td>\n",
       "      <td>0</td>\n",
       "      <td>...</td>\n",
       "      <td>0</td>\n",
       "      <td>0</td>\n",
       "      <td>0</td>\n",
       "      <td>0</td>\n",
       "      <td>0</td>\n",
       "      <td>0</td>\n",
       "      <td>0</td>\n",
       "      <td>0</td>\n",
       "      <td>0</td>\n",
       "      <td>0</td>\n",
       "    </tr>\n",
       "    <tr>\n",
       "      <th>5</th>\n",
       "      <td>9.0</td>\n",
       "      <td>0</td>\n",
       "      <td>0</td>\n",
       "      <td>0</td>\n",
       "      <td>1</td>\n",
       "      <td>0</td>\n",
       "      <td>0</td>\n",
       "      <td>0</td>\n",
       "      <td>0</td>\n",
       "      <td>0</td>\n",
       "      <td>...</td>\n",
       "      <td>0</td>\n",
       "      <td>0</td>\n",
       "      <td>0</td>\n",
       "      <td>0</td>\n",
       "      <td>0</td>\n",
       "      <td>0</td>\n",
       "      <td>0</td>\n",
       "      <td>0</td>\n",
       "      <td>0</td>\n",
       "      <td>0</td>\n",
       "    </tr>\n",
       "  </tbody>\n",
       "</table>\n",
       "<p>5 rows × 996 columns</p>\n",
       "</div>"
      ],
      "text/plain": [
       "   RATE  GENRE 1_Action  GENRE 1_Adventure  GENRE 1_Animation  \\\n",
       "0  10.0               0                  0                  0   \n",
       "1  10.0               0                  0                  0   \n",
       "2  10.0               0                  0                  0   \n",
       "4   9.0               0                  0                  0   \n",
       "5   9.0               0                  0                  0   \n",
       "\n",
       "   GENRE 1_Biography  GENRE 1_Comedy  GENRE 1_Crime  GENRE 1_Drama  \\\n",
       "0                  0               0              0              0   \n",
       "1                  0               0              0              0   \n",
       "2                  0               0              0              0   \n",
       "4                  0               0              0              0   \n",
       "5                  1               0              0              0   \n",
       "\n",
       "   GENRE 1_Fantastic  GENRE 1_Horror  ...  ACT 5_Yahya Abdul-Mateen II  \\\n",
       "0                  0               0  ...                            0   \n",
       "1                  0               0  ...                            0   \n",
       "2                  0               0  ...                            0   \n",
       "4                  0               0  ...                            0   \n",
       "5                  0               0  ...                            0   \n",
       "\n",
       "   ACT 5_Yuri Kolokolnikov  ACT 5_Zafer Algöz  ACT 5_Zeynep Karacan  \\\n",
       "0                        0                  0                     0   \n",
       "1                        0                  0                     0   \n",
       "2                        0                  0                     0   \n",
       "4                        0                  0                     0   \n",
       "5                        0                  0                     0   \n",
       "\n",
       "   ACT 5_Zihni Göktay  ACT 5_Zuleyka Silver  ACT 5_Çağlar Çorumlu  \\\n",
       "0                   0                     0                     0   \n",
       "1                   0                     0                     0   \n",
       "2                   0                     0                     0   \n",
       "4                   0                     0                     0   \n",
       "5                   0                     0                     0   \n",
       "\n",
       "   ACT 5_Özge Borak  ACT 5_İbrahim Büyükak  ACT 5_Şinasi Yurtsever  \n",
       "0                 0                      0                       0  \n",
       "1                 0                      0                       0  \n",
       "2                 0                      0                       0  \n",
       "4                 0                      0                       0  \n",
       "5                 0                      0                       0  \n",
       "\n",
       "[5 rows x 996 columns]"
      ]
     },
     "execution_count": 21,
     "metadata": {},
     "output_type": "execute_result"
    }
   ],
   "source": [
    "df.head()#Tenemos un dataset de 996 columnas, lo cual tiene sentido despues de crear tantas dummies"
   ]
  },
  {
   "cell_type": "code",
   "execution_count": 22,
   "id": "d8328d9b",
   "metadata": {},
   "outputs": [],
   "source": [
    "target = [\"RATE\"]#Nuestra variable a predecir"
   ]
  },
  {
   "cell_type": "code",
   "execution_count": 23,
   "id": "edfd1794",
   "metadata": {},
   "outputs": [],
   "source": [
    "colnames = df.columns.values.tolist()#conseguimos una lista de todas las variables"
   ]
  },
  {
   "cell_type": "code",
   "execution_count": 24,
   "id": "edc70bf3",
   "metadata": {},
   "outputs": [
    {
     "data": {
      "text/plain": [
       "['RATE',\n",
       " 'GENRE 1_Action',\n",
       " 'GENRE 1_Adventure',\n",
       " 'GENRE 1_Animation',\n",
       " 'GENRE 1_Biography']"
      ]
     },
     "execution_count": 24,
     "metadata": {},
     "output_type": "execute_result"
    }
   ],
   "source": [
    "colnames[:5]"
   ]
  },
  {
   "cell_type": "code",
   "execution_count": 25,
   "id": "502b3e17",
   "metadata": {},
   "outputs": [],
   "source": [
    "predictors = [v for v in colnames if v not in target]#Conseguimos una lista con todas las variables exceptuando la Y"
   ]
  },
  {
   "cell_type": "code",
   "execution_count": 26,
   "id": "7186bcd1",
   "metadata": {},
   "outputs": [
    {
     "data": {
      "text/plain": [
       "['GENRE 1_Action',\n",
       " 'GENRE 1_Adventure',\n",
       " 'GENRE 1_Animation',\n",
       " 'GENRE 1_Biography',\n",
       " 'GENRE 1_Comedy']"
      ]
     },
     "execution_count": 26,
     "metadata": {},
     "output_type": "execute_result"
    }
   ],
   "source": [
    "predictors[:5]#Nuestras variables predictoras"
   ]
  },
  {
   "cell_type": "code",
   "execution_count": 27,
   "id": "e469dca1",
   "metadata": {},
   "outputs": [],
   "source": [
    "Y = df[target].astype(int)#Pasamos a Y como entero"
   ]
  },
  {
   "cell_type": "code",
   "execution_count": 28,
   "id": "2493a067",
   "metadata": {},
   "outputs": [],
   "source": [
    "X = df[predictors]"
   ]
  },
  {
   "cell_type": "markdown",
   "id": "71db04fb",
   "metadata": {},
   "source": [
    "## RandomForest / Bosque Aleatorio\n",
    "Empezaremos dando uso de un bosque aleatorio para clasificar, el mismo es muy util cuando nos enfrentamos a problemas de multiclasificación y además poseemos un gran número de razgos/columnas.\n",
    "Algo importante a recordar es la pequeña cantidad de muestras del valor 2,3 y 10. Nuestro modelo de todas formas podría resultar no tan bueno debido a estas pequeñas cantidades."
   ]
  },
  {
   "cell_type": "code",
   "execution_count": 29,
   "id": "8fd81273",
   "metadata": {},
   "outputs": [],
   "source": [
    "from sklearn.ensemble import RandomForestClassifier"
   ]
  },
  {
   "cell_type": "code",
   "execution_count": 30,
   "id": "54058148",
   "metadata": {},
   "outputs": [],
   "source": [
    "forest = RandomForestClassifier(n_jobs = -1, n_estimators = 2000,  oob_score = True, random_state = 21)#Creacion de modelo\n",
    "#con 2000 arboles"
   ]
  },
  {
   "cell_type": "code",
   "execution_count": 31,
   "id": "f178fde8",
   "metadata": {},
   "outputs": [
    {
     "name": "stderr",
     "output_type": "stream",
     "text": [
      "C:\\Users\\Nahuel\\anaconda3\\envs\\Tranajo\\lib\\site-packages\\ipykernel_launcher.py:1: DataConversionWarning: A column-vector y was passed when a 1d array was expected. Please change the shape of y to (n_samples,), for example using ravel().\n",
      "  \"\"\"Entry point for launching an IPython kernel.\n",
      "C:\\Users\\Nahuel\\anaconda3\\envs\\Tranajo\\lib\\site-packages\\sklearn\\base.py:446: UserWarning: X does not have valid feature names, but RandomForestClassifier was fitted with feature names\n",
      "  \"X does not have valid feature names, but\"\n"
     ]
    },
    {
     "data": {
      "text/plain": [
       "RandomForestClassifier(n_estimators=2000, n_jobs=-1, oob_score=True,\n",
       "                       random_state=21)"
      ]
     },
     "execution_count": 31,
     "metadata": {},
     "output_type": "execute_result"
    }
   ],
   "source": [
    "forest.fit(X, Y)#Entrenamos el modelo, como es un bosque aleatorio, no es necesario elegir variables, el mismo modelo las pondera\n",
    "#Y elige las mas optimas, además por medio de la tecnica del modelo tampoco es necesario separar en test and train."
   ]
  },
  {
   "cell_type": "code",
   "execution_count": 32,
   "id": "7fc1a667",
   "metadata": {},
   "outputs": [
    {
     "data": {
      "text/plain": [
       "0.29064039408866993"
      ]
     },
     "execution_count": 32,
     "metadata": {},
     "output_type": "execute_result"
    }
   ],
   "source": [
    "forest.oob_score_#Tenemos un score aprox de 0.29, lo cual indica que es bastante malo, pero por medio de técnicas lo mejoraremos."
   ]
  },
  {
   "cell_type": "markdown",
   "id": "09ca11d9",
   "metadata": {},
   "source": [
    "## SVC \n",
    "Continuando tenemos SVM, específicamente SVClassifier, al igual que el random forest es muy util en situaciones con multiclasificación, con  una gran cantidad de columnas y especialmente en dataset medianos debido a su gran coste computacional.\n",
    "En esta seccion daremos uso de un poco mas de machine learning para decidir cual C es el óptimo, y que estilo de kernel."
   ]
  },
  {
   "cell_type": "code",
   "execution_count": 33,
   "id": "7c90c643",
   "metadata": {},
   "outputs": [],
   "source": [
    "from sklearn.svm import SVC#Importamos el modelo"
   ]
  },
  {
   "cell_type": "code",
   "execution_count": 34,
   "id": "6444ad9b",
   "metadata": {},
   "outputs": [],
   "source": [
    "from sklearn.model_selection import train_test_split, GridSearchCV#train and test, y GridSearchCV para mezclar aun un poco mas,\n",
    "#Y sacar la C, kernel y gamma optima"
   ]
  },
  {
   "cell_type": "code",
   "execution_count": 35,
   "id": "43e79434",
   "metadata": {},
   "outputs": [],
   "source": [
    "from sklearn.metrics import classification_report#Para evaluar el modelo"
   ]
  },
  {
   "cell_type": "code",
   "execution_count": 36,
   "id": "1ad8c337",
   "metadata": {},
   "outputs": [],
   "source": [
    "from sklearn.utils import shuffle#Para randomizar un poco la muestra y no quede tan ordenada"
   ]
  },
  {
   "cell_type": "code",
   "execution_count": 37,
   "id": "137db6d1",
   "metadata": {},
   "outputs": [],
   "source": [
    "X_sh, Y_sh = shuffle(X,Y, random_state=21)#Mezclamos"
   ]
  },
  {
   "cell_type": "code",
   "execution_count": 38,
   "id": "df17ef9e",
   "metadata": {},
   "outputs": [],
   "source": [
    "X_train1, X_test1, Y_train1, Y_test1 = train_test_split(X_sh,Y_sh, test_size= 0.20, random_state=21)#Esta es una forma de hacer\n",
    "#la creacion de test and train, usaremos un 80% para entrenar y un 20% para testear.\n",
    "#Más adelante usaremos una aun mejor, conocida como Kfold cross validation."
   ]
  },
  {
   "cell_type": "code",
   "execution_count": 39,
   "id": "92f33984",
   "metadata": {},
   "outputs": [
    {
     "data": {
      "text/plain": [
       "((41, 995), (162, 995))"
      ]
     },
     "execution_count": 39,
     "metadata": {},
     "output_type": "execute_result"
    }
   ],
   "source": [
    "X_test1.shape, X_train1.shape#Las dimensiones de los conjuntos de entrenamiento y testeo"
   ]
  },
  {
   "cell_type": "code",
   "execution_count": 40,
   "id": "efaf6558",
   "metadata": {},
   "outputs": [],
   "source": [
    "parameters = [{\n",
    "    \"kernel\":[\"rbf\"],\n",
    "    \"gamma\":[1e-4,1e-2,0.01,0.2,0.05],\n",
    "    \"C\" : [1,10,100,1000,2000]    \n",
    "},           \n",
    " {\n",
    "     \"kernel\": [\"linear\"],\n",
    "     \"C\":[1,10,100,1000,2000]\n",
    "     \n",
    " }]#Les damos los posibles kernel a elegir(en este caso use 2 para demostrar y no saturar mi computadora,\n",
    "#se podria implementar con los demás que existe),y también aun más posibles C y Gamma. "
   ]
  },
  {
   "cell_type": "code",
   "execution_count": 41,
   "id": "68b625cd",
   "metadata": {},
   "outputs": [
    {
     "name": "stderr",
     "output_type": "stream",
     "text": [
      "C:\\Users\\Nahuel\\anaconda3\\envs\\Tranajo\\lib\\site-packages\\sklearn\\model_selection\\_split.py:680: UserWarning: The least populated class in y has only 3 members, which is less than n_splits=4.\n",
      "  UserWarning,\n"
     ]
    }
   ],
   "source": [
    "clf = GridSearchCV(SVC(decision_function_shape=\"ovr\"),param_grid=parameters, cv=4).fit(X_train1, Y_train1.values.ravel())\n",
    "#Creamos y entrenamos"
   ]
  },
  {
   "cell_type": "code",
   "execution_count": 42,
   "id": "64c4f28c",
   "metadata": {},
   "outputs": [
    {
     "data": {
      "text/plain": [
       "{'C': 1, 'gamma': 0.2, 'kernel': 'rbf'}"
      ]
     },
     "execution_count": 42,
     "metadata": {},
     "output_type": "execute_result"
    }
   ],
   "source": [
    "clf.best_params_#Tenemos que el mejor modelo seria un rbf, con C=1, y gamma = 0.2"
   ]
  },
  {
   "cell_type": "code",
   "execution_count": 43,
   "id": "6d256393",
   "metadata": {},
   "outputs": [],
   "source": [
    "classifier = clf.best_estimator_#Creamos el modelo con los mejores parametros"
   ]
  },
  {
   "cell_type": "code",
   "execution_count": 44,
   "id": "f700f8ac",
   "metadata": {},
   "outputs": [],
   "source": [
    "yfit1 = classifier.predict(X_test1)#Le damos el conjunto de test para evaluar"
   ]
  },
  {
   "cell_type": "code",
   "execution_count": 45,
   "id": "43001bc9",
   "metadata": {
    "scrolled": true
   },
   "outputs": [
    {
     "name": "stdout",
     "output_type": "stream",
     "text": [
      "              precision    recall  f1-score   support\n",
      "\n",
      "           3       0.00      0.00      0.00         2\n",
      "           5       0.00      0.00      0.00         6\n",
      "           6       0.33      0.09      0.14        11\n",
      "           7       0.29      0.92      0.44        12\n",
      "           8       0.00      0.00      0.00         7\n",
      "           9       0.00      0.00      0.00         3\n",
      "\n",
      "    accuracy                           0.29        41\n",
      "   macro avg       0.10      0.17      0.10        41\n",
      "weighted avg       0.17      0.29      0.17        41\n",
      "\n"
     ]
    },
    {
     "name": "stderr",
     "output_type": "stream",
     "text": [
      "C:\\Users\\Nahuel\\anaconda3\\envs\\Tranajo\\lib\\site-packages\\sklearn\\metrics\\_classification.py:1308: UndefinedMetricWarning: Precision and F-score are ill-defined and being set to 0.0 in labels with no predicted samples. Use `zero_division` parameter to control this behavior.\n",
      "  _warn_prf(average, modifier, msg_start, len(result))\n",
      "C:\\Users\\Nahuel\\anaconda3\\envs\\Tranajo\\lib\\site-packages\\sklearn\\metrics\\_classification.py:1308: UndefinedMetricWarning: Precision and F-score are ill-defined and being set to 0.0 in labels with no predicted samples. Use `zero_division` parameter to control this behavior.\n",
      "  _warn_prf(average, modifier, msg_start, len(result))\n",
      "C:\\Users\\Nahuel\\anaconda3\\envs\\Tranajo\\lib\\site-packages\\sklearn\\metrics\\_classification.py:1308: UndefinedMetricWarning: Precision and F-score are ill-defined and being set to 0.0 in labels with no predicted samples. Use `zero_division` parameter to control this behavior.\n",
      "  _warn_prf(average, modifier, msg_start, len(result))\n"
     ]
    }
   ],
   "source": [
    "print(classification_report(Y_test1, yfit1))#Aca tenemos la evaluacion, podemos notar varias cosas, entre ellas que la precision\n",
    "#es de 0.29, y lo segundo es que varios resultados salen 0 de precision y 0 de recall, esto es debido a que habia muy pocas \n",
    "#Observaciones de esos resultados, nos ocurrio lo mismo que en randomforest. Como se podría solucionar?"
   ]
  },
  {
   "cell_type": "markdown",
   "id": "3b544510",
   "metadata": {},
   "source": [
    "## Reclasificando Y\n",
    "Una forma de solucionarlo seria hacer una reclasificacion de Y, tal vez lo más óptimo no es intentar clasificar el número exacto valoracion de una película, sino si posiblemente le va a gustar o no.\n",
    "Para esto lo que hacemos es separar Y en dos tramos:\n",
    "* le gusta, una nota de entre 7 (incluido) y 10\n",
    "* No le gusta, una nota menor que 7\n",
    "\n",
    "Con esto en principio solucionariamos el problema de cantidad de muestras de las variables a predecir.\n",
    "Tambien pasariamos de un problema de multiclasificación a un problema de unicamente 2 clasificaciones (con esto podríamos implementar también regresión logística)."
   ]
  },
  {
   "cell_type": "code",
   "execution_count": 46,
   "id": "1e0df47b",
   "metadata": {},
   "outputs": [
    {
     "data": {
      "text/plain": [
       "[array([10]), array([10]), array([10]), array([9]), array([9])]"
      ]
     },
     "execution_count": 46,
     "metadata": {},
     "output_type": "execute_result"
    }
   ],
   "source": [
    "evenType = list(Y.values)\n",
    "evenType[:5]#Creamos una lista con todos los valores dentro de Y, es decir \"RATE\""
   ]
  },
  {
   "cell_type": "code",
   "execution_count": 47,
   "id": "2b0d866f",
   "metadata": {},
   "outputs": [],
   "source": [
    "#Creamos una función, que hará que los valores del 1 al 6, tomen el valor de \"0\" y los mayores de 6 hasta 10, sean \"1\"\n",
    "x = None\n",
    "def event(n):\n",
    "    if n in range(1,7):\n",
    "        x = 0\n",
    "    if n in range(7,11):\n",
    "        x = 1\n",
    "    else:\n",
    "        x = x\n",
    "    return x"
   ]
  },
  {
   "cell_type": "code",
   "execution_count": 48,
   "id": "53ef4fe5",
   "metadata": {},
   "outputs": [],
   "source": [
    "state = list(map(lambda n: event(n), evenType))#Aplicamos la funcion a cada valor dentro de evenType"
   ]
  },
  {
   "cell_type": "code",
   "execution_count": 49,
   "id": "106a2dd5",
   "metadata": {},
   "outputs": [
    {
     "data": {
      "text/plain": [
       "[1, 1, 1, 1, 1]"
      ]
     },
     "execution_count": 49,
     "metadata": {},
     "output_type": "execute_result"
    }
   ],
   "source": [
    "state[:5]#Observamos el resultado, si es 1, seguramente esa pelicula le vaya a gustar ya que tendra un puntaje de 7 o más\n",
    "#si es 0 posiblemente no le vaya a gustar, ya que tendrá un puntaje inferior a 7."
   ]
  },
  {
   "cell_type": "code",
   "execution_count": 50,
   "id": "2673180f",
   "metadata": {},
   "outputs": [],
   "source": [
    "forest2 = RandomForestClassifier(n_jobs = -1, n_estimators = 2000, oob_score=True, random_state=21)#Creamos nuevamente el modelo"
   ]
  },
  {
   "cell_type": "code",
   "execution_count": 51,
   "id": "14aa8928",
   "metadata": {},
   "outputs": [
    {
     "name": "stderr",
     "output_type": "stream",
     "text": [
      "C:\\Users\\Nahuel\\anaconda3\\envs\\Tranajo\\lib\\site-packages\\sklearn\\base.py:446: UserWarning: X does not have valid feature names, but RandomForestClassifier was fitted with feature names\n",
      "  \"X does not have valid feature names, but\"\n"
     ]
    },
    {
     "data": {
      "text/plain": [
       "RandomForestClassifier(n_estimators=2000, n_jobs=-1, oob_score=True,\n",
       "                       random_state=21)"
      ]
     },
     "execution_count": 51,
     "metadata": {},
     "output_type": "execute_result"
    }
   ],
   "source": [
    "forest2.fit(X, state)#Y lo entrenamos con la X de siempre pero aplicandole esta vez la nueva Y"
   ]
  },
  {
   "cell_type": "code",
   "execution_count": 52,
   "id": "2afa416d",
   "metadata": {},
   "outputs": [
    {
     "data": {
      "text/plain": [
       "0.6995073891625616"
      ]
     },
     "execution_count": 52,
     "metadata": {},
     "output_type": "execute_result"
    }
   ],
   "source": [
    "forest2.oob_score_#Observamos que la efectividad del modelo, subió increiblemente"
   ]
  },
  {
   "cell_type": "code",
   "execution_count": 53,
   "id": "964ebcd3",
   "metadata": {},
   "outputs": [],
   "source": [
    "X_train, X_test, Y_train, Y_test = train_test_split(X,state, test_size= 0.20, random_state=21)#creamos train and test para SVC"
   ]
  },
  {
   "cell_type": "code",
   "execution_count": 54,
   "id": "ef9c81a8",
   "metadata": {},
   "outputs": [],
   "source": [
    "clf2 = GridSearchCV(SVC(decision_function_shape=\"ovr\"),param_grid=parameters, cv=4).fit(X_train, Y_train)"
   ]
  },
  {
   "cell_type": "code",
   "execution_count": 55,
   "id": "e878b53c",
   "metadata": {},
   "outputs": [
    {
     "data": {
      "text/plain": [
       "{'C': 1000, 'gamma': 0.0001, 'kernel': 'rbf'}"
      ]
     },
     "execution_count": 55,
     "metadata": {},
     "output_type": "execute_result"
    }
   ],
   "source": [
    "clf2.best_params_#Vemos que los parametros de C y gamma cambiaron"
   ]
  },
  {
   "cell_type": "code",
   "execution_count": 56,
   "id": "3ea94e5c",
   "metadata": {},
   "outputs": [],
   "source": [
    "classifier2 =clf2.best_estimator_"
   ]
  },
  {
   "cell_type": "code",
   "execution_count": 57,
   "id": "73f1cb09",
   "metadata": {},
   "outputs": [],
   "source": [
    "yfit2 = classifier2.predict(X_test)"
   ]
  },
  {
   "cell_type": "code",
   "execution_count": 58,
   "id": "d5bb841e",
   "metadata": {},
   "outputs": [
    {
     "name": "stdout",
     "output_type": "stream",
     "text": [
      "              precision    recall  f1-score   support\n",
      "\n",
      "           0       0.78      0.67      0.72        21\n",
      "           1       0.70      0.80      0.74        20\n",
      "\n",
      "    accuracy                           0.73        41\n",
      "   macro avg       0.74      0.73      0.73        41\n",
      "weighted avg       0.74      0.73      0.73        41\n",
      "\n"
     ]
    }
   ],
   "source": [
    "print(classification_report(Y_test, yfit2))#SVC también se incremento y hasta siendo mejor que RandomForest, lo cual tiene sentido\n",
    "#Ya que es mejor prediciendo pero tiene un coste computacional muy elevado"
   ]
  },
  {
   "cell_type": "markdown",
   "id": "47a57b3a",
   "metadata": {},
   "source": [
    "## Implementación de Regresión Logística"
   ]
  },
  {
   "cell_type": "code",
   "execution_count": 59,
   "id": "bd38f43f",
   "metadata": {},
   "outputs": [],
   "source": [
    "#Como mencionamos antes ahora usaremos regresión logistica, y tambien RFE para seleccionar las variables más optimas.\n",
    "from sklearn.linear_model import LogisticRegression#Regresión Logistica\n",
    "from sklearn.feature_selection import RFE#Selección de variables\n",
    "from sklearn.model_selection import cross_val_score#KFold Cross validation, mencionamos previamente que lo utilizariamos\n",
    "from sklearn.model_selection import LeaveOneOut#Demostrar la máxima capacidad de kfoldCrossValidation"
   ]
  },
  {
   "cell_type": "code",
   "execution_count": 60,
   "id": "e0aad7b5",
   "metadata": {},
   "outputs": [],
   "source": [
    "lr = LogisticRegression()"
   ]
  },
  {
   "cell_type": "code",
   "execution_count": 61,
   "id": "d4814879",
   "metadata": {},
   "outputs": [],
   "source": [
    "rfe = RFE(lr, n_features_to_select=10)#Creacion de modelo y elección de variables\n",
    "rfe = rfe.fit(X_train, Y_train)#Entrenamiento"
   ]
  },
  {
   "cell_type": "code",
   "execution_count": 62,
   "id": "49a90cb2",
   "metadata": {
    "scrolled": true
   },
   "outputs": [
    {
     "data": {
      "text/plain": [
       "array([70,  4, 14,  1,  1, 46,  1])"
      ]
     },
     "execution_count": 62,
     "metadata": {},
     "output_type": "execute_result"
    }
   ],
   "source": [
    "rfe.ranking_[:7]#El ranking de todas las variables, las que salen con 1 son las que utilizaremos\n",
    "#Cabe mencionar que este es la mejor combinacion posible con 10 variables."
   ]
  },
  {
   "cell_type": "code",
   "execution_count": 63,
   "id": "4b0342a5",
   "metadata": {},
   "outputs": [
    {
     "data": {
      "text/plain": [
       "[('GENRE 1_Action', 70),\n",
       " ('GENRE 1_Adventure', 4),\n",
       " ('GENRE 1_Animation', 14),\n",
       " ('GENRE 1_Biography', 1),\n",
       " ('GENRE 1_Comedy', 1),\n",
       " ('GENRE 1_Crime', 46),\n",
       " ('GENRE 1_Drama', 1)]"
      ]
     },
     "execution_count": 63,
     "metadata": {},
     "output_type": "execute_result"
    }
   ],
   "source": [
    "list(zip(X, rfe.ranking_))[:7]#Para observarlo de mejor manera"
   ]
  },
  {
   "cell_type": "code",
   "execution_count": 64,
   "id": "6f9da648",
   "metadata": {},
   "outputs": [
    {
     "data": {
      "text/html": [
       "<div>\n",
       "<style scoped>\n",
       "    .dataframe tbody tr th:only-of-type {\n",
       "        vertical-align: middle;\n",
       "    }\n",
       "\n",
       "    .dataframe tbody tr th {\n",
       "        vertical-align: top;\n",
       "    }\n",
       "\n",
       "    .dataframe thead th {\n",
       "        text-align: right;\n",
       "    }\n",
       "</style>\n",
       "<table border=\"1\" class=\"dataframe\">\n",
       "  <thead>\n",
       "    <tr style=\"text-align: right;\">\n",
       "      <th></th>\n",
       "      <th>GENRE 1_Biography</th>\n",
       "      <th>GENRE 1_Comedy</th>\n",
       "      <th>GENRE 1_Drama</th>\n",
       "      <th>YEAR_2008</th>\n",
       "      <th>DIRECTOR_Christopher Nolan</th>\n",
       "      <th>DIRECTOR_Martin Scorsese</th>\n",
       "      <th>ACT 1_Christian Bale</th>\n",
       "      <th>ACT 1_Jake Gyllenhaal</th>\n",
       "      <th>ACT 1_Ryan Reynolds</th>\n",
       "      <th>ACT 5_Mark Ruffalo</th>\n",
       "    </tr>\n",
       "  </thead>\n",
       "  <tbody>\n",
       "    <tr>\n",
       "      <th>0</th>\n",
       "      <td>0</td>\n",
       "      <td>0</td>\n",
       "      <td>0</td>\n",
       "      <td>0</td>\n",
       "      <td>1</td>\n",
       "      <td>0</td>\n",
       "      <td>1</td>\n",
       "      <td>0</td>\n",
       "      <td>0</td>\n",
       "      <td>0</td>\n",
       "    </tr>\n",
       "    <tr>\n",
       "      <th>1</th>\n",
       "      <td>0</td>\n",
       "      <td>0</td>\n",
       "      <td>0</td>\n",
       "      <td>0</td>\n",
       "      <td>1</td>\n",
       "      <td>0</td>\n",
       "      <td>0</td>\n",
       "      <td>0</td>\n",
       "      <td>0</td>\n",
       "      <td>0</td>\n",
       "    </tr>\n",
       "    <tr>\n",
       "      <th>2</th>\n",
       "      <td>0</td>\n",
       "      <td>0</td>\n",
       "      <td>0</td>\n",
       "      <td>0</td>\n",
       "      <td>1</td>\n",
       "      <td>0</td>\n",
       "      <td>0</td>\n",
       "      <td>0</td>\n",
       "      <td>0</td>\n",
       "      <td>0</td>\n",
       "    </tr>\n",
       "    <tr>\n",
       "      <th>4</th>\n",
       "      <td>0</td>\n",
       "      <td>0</td>\n",
       "      <td>0</td>\n",
       "      <td>0</td>\n",
       "      <td>0</td>\n",
       "      <td>0</td>\n",
       "      <td>0</td>\n",
       "      <td>0</td>\n",
       "      <td>0</td>\n",
       "      <td>0</td>\n",
       "    </tr>\n",
       "    <tr>\n",
       "      <th>5</th>\n",
       "      <td>1</td>\n",
       "      <td>0</td>\n",
       "      <td>0</td>\n",
       "      <td>0</td>\n",
       "      <td>0</td>\n",
       "      <td>0</td>\n",
       "      <td>0</td>\n",
       "      <td>0</td>\n",
       "      <td>0</td>\n",
       "      <td>0</td>\n",
       "    </tr>\n",
       "  </tbody>\n",
       "</table>\n",
       "</div>"
      ],
      "text/plain": [
       "   GENRE 1_Biography  GENRE 1_Comedy  GENRE 1_Drama  YEAR_2008  \\\n",
       "0                  0               0              0          0   \n",
       "1                  0               0              0          0   \n",
       "2                  0               0              0          0   \n",
       "4                  0               0              0          0   \n",
       "5                  1               0              0          0   \n",
       "\n",
       "   DIRECTOR_Christopher Nolan  DIRECTOR_Martin Scorsese  ACT 1_Christian Bale  \\\n",
       "0                           1                         0                     1   \n",
       "1                           1                         0                     0   \n",
       "2                           1                         0                     0   \n",
       "4                           0                         0                     0   \n",
       "5                           0                         0                     0   \n",
       "\n",
       "   ACT 1_Jake Gyllenhaal  ACT 1_Ryan Reynolds  ACT 5_Mark Ruffalo  \n",
       "0                      0                    0                   0  \n",
       "1                      0                    0                   0  \n",
       "2                      0                    0                   0  \n",
       "4                      0                    0                   0  \n",
       "5                      0                    0                   0  "
      ]
     },
     "execution_count": 64,
     "metadata": {},
     "output_type": "execute_result"
    }
   ],
   "source": [
    "df_features = X.columns.values[rfe.support_ == True]#Selecionamos las variables que posean el 1\n",
    "X2 = X[df_features]#Nos quedamos solo con esas\n",
    "X2.head()#Notar como mencionamos durante todo el análisis que los géneros comedia, biografía y drama son los que más influyen"
   ]
  },
  {
   "cell_type": "code",
   "execution_count": 65,
   "id": "cbe800b5",
   "metadata": {},
   "outputs": [],
   "source": [
    "score = cross_val_score(lr, X2, state, scoring = \"accuracy\", cv = 10)#Creamos nuevamente el modelo pero esta vez usando las \n",
    "#variables elegidas y con cross validation."
   ]
  },
  {
   "cell_type": "code",
   "execution_count": 66,
   "id": "45718792",
   "metadata": {},
   "outputs": [
    {
     "data": {
      "text/plain": [
       "0.7040476190476191"
      ]
     },
     "execution_count": 66,
     "metadata": {},
     "output_type": "execute_result"
    }
   ],
   "source": [
    "score.mean()#Observamos el r2"
   ]
  },
  {
   "cell_type": "code",
   "execution_count": 67,
   "id": "90664074",
   "metadata": {},
   "outputs": [],
   "source": [
    "score2 = cross_val_score(lr, X2, state, scoring = \"accuracy\", cv = LeaveOneOut())#Utilizamos cada fila para testear y entrenar"
   ]
  },
  {
   "cell_type": "code",
   "execution_count": 68,
   "id": "1258b2fd",
   "metadata": {},
   "outputs": [
    {
     "data": {
      "text/plain": [
       "0.7586206896551724"
      ]
     },
     "execution_count": 68,
     "metadata": {},
     "output_type": "execute_result"
    }
   ],
   "source": [
    "score2.mean()#Y corroboramos que efectivamente regresión logistica es lo más óptimo cuando se trata de un problema de \n",
    "#2 clasificaciones."
   ]
  },
  {
   "cell_type": "markdown",
   "id": "9e57cd43",
   "metadata": {},
   "source": [
    "### Mejorando Regresión Logística\n",
    "Una manera óptima de mejorar el modelo sería haciendo un bucle que nos devuelva los valores de r2 según la cantidad de variables que se apliquen."
   ]
  },
  {
   "cell_type": "code",
   "execution_count": 69,
   "id": "1df579a4",
   "metadata": {},
   "outputs": [
    {
     "name": "stdout",
     "output_type": "stream",
     "text": [
      "Con 2 variables, el r2 es 0.6757142857142857\n",
      "Con 3 variables, el r2 es 0.6757142857142857\n",
      "Con 4 variables, el r2 es 0.6257142857142858\n",
      "Con 5 variables, el r2 es 0.6304761904761905\n",
      "Con 6 variables, el r2 es 0.6552380952380953\n",
      "Con 7 variables, el r2 es 0.6552380952380953\n",
      "Con 8 variables, el r2 es 0.6602380952380953\n",
      "Con 9 variables, el r2 es 0.6847619047619049\n",
      "Con 10 variables, el r2 es 0.7040476190476191\n",
      "Con 11 variables, el r2 es 0.6902380952380953\n",
      "Con 12 variables, el r2 es 0.6952380952380952\n",
      "Con 13 variables, el r2 es 0.7050000000000001\n",
      "Con 14 variables, el r2 es 0.72\n",
      "Con 15 variables, el r2 es 0.7685714285714286\n",
      "El r2 maximo es 0.7685714285714286, con una cantidad de (array([13], dtype=int64),) +2 variables\n"
     ]
    },
    {
     "data": {
      "image/png": "[encoded data removed]",
      "text/plain": [
       "<Figure size 432x288 with 1 Axes>"
      ]
     },
     "metadata": {},
     "output_type": "display_data"
    }
   ],
   "source": [
    "import numpy as np\n",
    "r2s = []\n",
    "for i in range(2,16):\n",
    "    lri = LogisticRegression()\n",
    "    rfei = RFE(lri, n_features_to_select= i)\n",
    "    rfei.fit(X_train,Y_train)\n",
    "    df_featuresi = X.columns.values[rfei.support_ == True]\n",
    "    Xi = X[df_featuresi]\n",
    "    score_i = cross_val_score(lri, Xi, state, scoring = \"accuracy\", cv = 10)\n",
    "    score_im = score_i.mean()\n",
    "    r2s.append(score_im)\n",
    "    \n",
    "    print(\"Con {0} variables, el r2 es {1}\".format(i,score_im))\n",
    "\n",
    "\n",
    "plt.plot(range(2,16), r2s)\n",
    "plt.xlabel(\"Numero de Variables\")\n",
    "plt.ylabel(\"R2 - score\")\n",
    "plt.title(\"Variación de R2 según cantidad de variables\")\n",
    "print(\"El r2 maximo es {0}, con una cantidad de {1} +2 variables\".format(max(r2s), np.where(r2s == max(r2s)) ))\n"
   ]
  },
  {
   "cell_type": "markdown",
   "id": "a67de7e0",
   "metadata": {},
   "source": [
    "Podemos observar que sacariamos el maximo valor de r2 con un total de 15 variables (en el rango establecido en el bucle)."
   ]
  },
  {
   "cell_type": "markdown",
   "id": "f2bba457",
   "metadata": {},
   "source": [
    "Si quisieramos saber cuales son esas variables, bastaria con ejecutar el mismo codigo que antes pero aplicando 15 en lugar de 10."
   ]
  },
  {
   "cell_type": "code",
   "execution_count": 70,
   "id": "1bc85fec",
   "metadata": {},
   "outputs": [
    {
     "data": {
      "text/plain": [
       "['GENRE 1_Adventure',\n",
       " 'GENRE 1_Biography',\n",
       " 'GENRE 1_Comedy',\n",
       " 'GENRE 1_Drama',\n",
       " 'GENRE 1_Mystery',\n",
       " 'YEAR_2008',\n",
       " 'DIRECTOR_Christopher Nolan',\n",
       " 'DIRECTOR_Martin Scorsese',\n",
       " 'ACT 1_Chris Pratt',\n",
       " 'ACT 1_Christian Bale',\n",
       " 'ACT 1_Jake Gyllenhaal',\n",
       " 'ACT 1_Ryan Reynolds',\n",
       " 'ACT 2_Cillian Murphy',\n",
       " 'ACT 5_Idris Elba',\n",
       " 'ACT 5_Mark Ruffalo']"
      ]
     },
     "execution_count": 70,
     "metadata": {},
     "output_type": "execute_result"
    }
   ],
   "source": [
    "#para ver las 15 variables:\n",
    "rfef = RFE(lr, n_features_to_select=15)\n",
    "rfef = rfef.fit(X_train, Y_train)\n",
    "df_features = X.columns.values[rfef.support_ == True]\n",
    "Xf = X[df_features]\n",
    "Xf.columns.values.tolist() #Las variables seleccionadas."
   ]
  },
  {
   "cell_type": "code",
   "execution_count": 71,
   "id": "7b63cd5e",
   "metadata": {},
   "outputs": [],
   "source": [
    "#Guardaremos los valores de los parametros para ir comparando \n",
    "#con las demás regresiones.\n",
    "df_coeff15 = pd.DataFrame({\n",
    "           \"variable\": Xf.columns.values})"
   ]
  },
  {
   "cell_type": "code",
   "execution_count": 72,
   "id": "b6498b84",
   "metadata": {},
   "outputs": [],
   "source": [
    "X_train15, X_test15, Y_train15, Y_test15 = train_test_split(Xf, state, random_state=21, test_size=0.2)\n",
    "lr15 = lr.fit(X_train15, Y_train15)"
   ]
  },
  {
   "cell_type": "code",
   "execution_count": 73,
   "id": "7bae73aa",
   "metadata": {},
   "outputs": [
    {
     "data": {
      "text/html": [
       "<div>\n",
       "<style scoped>\n",
       "    .dataframe tbody tr th:only-of-type {\n",
       "        vertical-align: middle;\n",
       "    }\n",
       "\n",
       "    .dataframe tbody tr th {\n",
       "        vertical-align: top;\n",
       "    }\n",
       "\n",
       "    .dataframe thead th {\n",
       "        text-align: right;\n",
       "    }\n",
       "</style>\n",
       "<table border=\"1\" class=\"dataframe\">\n",
       "  <thead>\n",
       "    <tr style=\"text-align: right;\">\n",
       "      <th></th>\n",
       "      <th>variable</th>\n",
       "      <th>RFE15</th>\n",
       "    </tr>\n",
       "  </thead>\n",
       "  <tbody>\n",
       "    <tr>\n",
       "      <th>0</th>\n",
       "      <td>GENRE 1_Adventure</td>\n",
       "      <td>-0.866245</td>\n",
       "    </tr>\n",
       "    <tr>\n",
       "      <th>1</th>\n",
       "      <td>GENRE 1_Biography</td>\n",
       "      <td>1.600378</td>\n",
       "    </tr>\n",
       "    <tr>\n",
       "      <th>2</th>\n",
       "      <td>GENRE 1_Comedy</td>\n",
       "      <td>-1.300968</td>\n",
       "    </tr>\n",
       "    <tr>\n",
       "      <th>3</th>\n",
       "      <td>GENRE 1_Drama</td>\n",
       "      <td>1.224743</td>\n",
       "    </tr>\n",
       "    <tr>\n",
       "      <th>4</th>\n",
       "      <td>GENRE 1_Mystery</td>\n",
       "      <td>0.829417</td>\n",
       "    </tr>\n",
       "    <tr>\n",
       "      <th>5</th>\n",
       "      <td>YEAR_2008</td>\n",
       "      <td>-1.184656</td>\n",
       "    </tr>\n",
       "    <tr>\n",
       "      <th>6</th>\n",
       "      <td>DIRECTOR_Christopher Nolan</td>\n",
       "      <td>1.015649</td>\n",
       "    </tr>\n",
       "    <tr>\n",
       "      <th>7</th>\n",
       "      <td>DIRECTOR_Martin Scorsese</td>\n",
       "      <td>0.885555</td>\n",
       "    </tr>\n",
       "    <tr>\n",
       "      <th>8</th>\n",
       "      <td>ACT 1_Chris Pratt</td>\n",
       "      <td>0.893231</td>\n",
       "    </tr>\n",
       "    <tr>\n",
       "      <th>9</th>\n",
       "      <td>ACT 1_Christian Bale</td>\n",
       "      <td>0.963072</td>\n",
       "    </tr>\n",
       "    <tr>\n",
       "      <th>10</th>\n",
       "      <td>ACT 1_Jake Gyllenhaal</td>\n",
       "      <td>0.964189</td>\n",
       "    </tr>\n",
       "    <tr>\n",
       "      <th>11</th>\n",
       "      <td>ACT 1_Ryan Reynolds</td>\n",
       "      <td>-1.074242</td>\n",
       "    </tr>\n",
       "    <tr>\n",
       "      <th>12</th>\n",
       "      <td>ACT 2_Cillian Murphy</td>\n",
       "      <td>-0.866245</td>\n",
       "    </tr>\n",
       "    <tr>\n",
       "      <th>13</th>\n",
       "      <td>ACT 5_Idris Elba</td>\n",
       "      <td>-0.866245</td>\n",
       "    </tr>\n",
       "    <tr>\n",
       "      <th>14</th>\n",
       "      <td>ACT 5_Mark Ruffalo</td>\n",
       "      <td>1.057931</td>\n",
       "    </tr>\n",
       "  </tbody>\n",
       "</table>\n",
       "</div>"
      ],
      "text/plain": [
       "                      variable     RFE15\n",
       "0            GENRE 1_Adventure -0.866245\n",
       "1            GENRE 1_Biography  1.600378\n",
       "2               GENRE 1_Comedy -1.300968\n",
       "3                GENRE 1_Drama  1.224743\n",
       "4              GENRE 1_Mystery  0.829417\n",
       "5                    YEAR_2008 -1.184656\n",
       "6   DIRECTOR_Christopher Nolan  1.015649\n",
       "7     DIRECTOR_Martin Scorsese  0.885555\n",
       "8            ACT 1_Chris Pratt  0.893231\n",
       "9         ACT 1_Christian Bale  0.963072\n",
       "10       ACT 1_Jake Gyllenhaal  0.964189\n",
       "11         ACT 1_Ryan Reynolds -1.074242\n",
       "12        ACT 2_Cillian Murphy -0.866245\n",
       "13            ACT 5_Idris Elba -0.866245\n",
       "14          ACT 5_Mark Ruffalo  1.057931"
      ]
     },
     "execution_count": 73,
     "metadata": {},
     "output_type": "execute_result"
    }
   ],
   "source": [
    "#Dataframe que contiene solo las variables que se utilizan en regresión logistica con RFE\n",
    "df_coeff15[\"RFE15\"] = lr15.coef_.reshape(-1,1)\n",
    "df_coeff15.head()"
   ]
  },
  {
   "cell_type": "markdown",
   "id": "94c52444",
   "metadata": {},
   "source": [
    "### Lasso y Ridge"
   ]
  },
  {
   "cell_type": "code",
   "execution_count": 74,
   "id": "fc66bac5",
   "metadata": {},
   "outputs": [],
   "source": [
    "from sklearn.linear_model import RidgeClassifierCV#para computar Ridge usaremos este comando que es más cómodo\n",
    "#Y para Lasso usaremos un parametro de LogisticRegression."
   ]
  },
  {
   "cell_type": "code",
   "execution_count": 75,
   "id": "36f72fcf",
   "metadata": {},
   "outputs": [
    {
     "data": {
      "text/plain": [
       "RidgeClassifierCV(alphas=array([1.00000000e-10, 1.14895100e-10, 1.32008840e-10, 1.51671689e-10,\n",
       "       1.74263339e-10, 2.00220037e-10, 2.30043012e-10, 2.64308149e-10,\n",
       "       3.03677112e-10, 3.48910121e-10, 4.00880633e-10, 4.60592204e-10,\n",
       "       5.29197874e-10, 6.08022426e-10, 6.98587975e-10, 8.02643352e-10,\n",
       "       9.22197882e-10, 1.05956018e-09, 1.21738273e-09, 1.39871310e-09,\n",
       "       1.60705282e-09, 1.8...\n",
       "       4.10265811e+00, 4.71375313e+00, 5.41587138e+00, 6.22257084e+00,\n",
       "       7.14942899e+00, 8.21434358e+00, 9.43787828e+00, 1.08436597e+01,\n",
       "       1.24588336e+01, 1.43145894e+01, 1.64467618e+01, 1.88965234e+01,\n",
       "       2.17111795e+01, 2.49450814e+01, 2.86606762e+01, 3.29297126e+01,\n",
       "       3.78346262e+01, 4.34701316e+01, 4.99450512e+01, 5.73844165e+01,\n",
       "       6.59318827e+01, 7.57525026e+01, 8.70359136e+01, 1.00000000e+02]),\n",
       "                  cv=10)"
      ]
     },
     "execution_count": 75,
     "metadata": {},
     "output_type": "execute_result"
    }
   ],
   "source": [
    "#Computamos Ridge\n",
    "rdg = RidgeClassifierCV(alphas = np.logspace(-10, 2, 200), \n",
    "                        fit_intercept = True, cv=10)#Notar que este comando ya incluye cross validation.\n",
    "rdg.fit(X,state)"
   ]
  },
  {
   "cell_type": "code",
   "execution_count": 76,
   "id": "be26103a",
   "metadata": {},
   "outputs": [
    {
     "data": {
      "text/plain": [
       "0.1683180353330955"
      ]
     },
     "execution_count": 76,
     "metadata": {},
     "output_type": "execute_result"
    }
   ],
   "source": [
    "rdg.alpha_#El mejor alpha en Ridge para nuestro modelo"
   ]
  },
  {
   "cell_type": "code",
   "execution_count": 77,
   "id": "6a2051f5",
   "metadata": {},
   "outputs": [
    {
     "data": {
      "text/plain": [
       "0.7338095238095238"
      ]
     },
     "execution_count": 77,
     "metadata": {},
     "output_type": "execute_result"
    }
   ],
   "source": [
    "rdg.best_score_#El modelo calculado con el mejor alpha"
   ]
  },
  {
   "cell_type": "code",
   "execution_count": 78,
   "id": "be26f5a4",
   "metadata": {},
   "outputs": [],
   "source": [
    "#Armamos el dataframe para guardar estos parametros\n",
    "df_params = pd.DataFrame({\n",
    "         \"variable\": X.columns.values\n",
    "})"
   ]
  },
  {
   "cell_type": "code",
   "execution_count": 79,
   "id": "3e03c999",
   "metadata": {},
   "outputs": [
    {
     "data": {
      "text/html": [
       "<div>\n",
       "<style scoped>\n",
       "    .dataframe tbody tr th:only-of-type {\n",
       "        vertical-align: middle;\n",
       "    }\n",
       "\n",
       "    .dataframe tbody tr th {\n",
       "        vertical-align: top;\n",
       "    }\n",
       "\n",
       "    .dataframe thead th {\n",
       "        text-align: right;\n",
       "    }\n",
       "</style>\n",
       "<table border=\"1\" class=\"dataframe\">\n",
       "  <thead>\n",
       "    <tr style=\"text-align: right;\">\n",
       "      <th></th>\n",
       "      <th>variable</th>\n",
       "      <th>rdg</th>\n",
       "    </tr>\n",
       "  </thead>\n",
       "  <tbody>\n",
       "    <tr>\n",
       "      <th>0</th>\n",
       "      <td>GENRE 1_Action</td>\n",
       "      <td>-0.136665</td>\n",
       "    </tr>\n",
       "    <tr>\n",
       "      <th>1</th>\n",
       "      <td>GENRE 1_Adventure</td>\n",
       "      <td>-0.331072</td>\n",
       "    </tr>\n",
       "    <tr>\n",
       "      <th>2</th>\n",
       "      <td>GENRE 1_Animation</td>\n",
       "      <td>-0.276610</td>\n",
       "    </tr>\n",
       "    <tr>\n",
       "      <th>3</th>\n",
       "      <td>GENRE 1_Biography</td>\n",
       "      <td>0.543375</td>\n",
       "    </tr>\n",
       "    <tr>\n",
       "      <th>4</th>\n",
       "      <td>GENRE 1_Comedy</td>\n",
       "      <td>-0.592592</td>\n",
       "    </tr>\n",
       "    <tr>\n",
       "      <th>...</th>\n",
       "      <td>...</td>\n",
       "      <td>...</td>\n",
       "    </tr>\n",
       "    <tr>\n",
       "      <th>990</th>\n",
       "      <td>ACT 5_Zuleyka Silver</td>\n",
       "      <td>-0.064698</td>\n",
       "    </tr>\n",
       "    <tr>\n",
       "      <th>991</th>\n",
       "      <td>ACT 5_Çağlar Çorumlu</td>\n",
       "      <td>-0.074998</td>\n",
       "    </tr>\n",
       "    <tr>\n",
       "      <th>992</th>\n",
       "      <td>ACT 5_Özge Borak</td>\n",
       "      <td>-0.020665</td>\n",
       "    </tr>\n",
       "    <tr>\n",
       "      <th>993</th>\n",
       "      <td>ACT 5_İbrahim Büyükak</td>\n",
       "      <td>-0.080798</td>\n",
       "    </tr>\n",
       "    <tr>\n",
       "      <th>994</th>\n",
       "      <td>ACT 5_Şinasi Yurtsever</td>\n",
       "      <td>-0.019238</td>\n",
       "    </tr>\n",
       "  </tbody>\n",
       "</table>\n",
       "<p>995 rows × 2 columns</p>\n",
       "</div>"
      ],
      "text/plain": [
       "                   variable       rdg\n",
       "0            GENRE 1_Action -0.136665\n",
       "1         GENRE 1_Adventure -0.331072\n",
       "2         GENRE 1_Animation -0.276610\n",
       "3         GENRE 1_Biography  0.543375\n",
       "4            GENRE 1_Comedy -0.592592\n",
       "..                      ...       ...\n",
       "990    ACT 5_Zuleyka Silver -0.064698\n",
       "991    ACT 5_Çağlar Çorumlu -0.074998\n",
       "992        ACT 5_Özge Borak -0.020665\n",
       "993   ACT 5_İbrahim Büyükak -0.080798\n",
       "994  ACT 5_Şinasi Yurtsever -0.019238\n",
       "\n",
       "[995 rows x 2 columns]"
      ]
     },
     "execution_count": 79,
     "metadata": {},
     "output_type": "execute_result"
    }
   ],
   "source": [
    "#Podemos apreciar los valores calculados por Ridge\n",
    "df_params[\"rdg\"] = rdg.coef_.reshape(-1,1)\n",
    "df_params.head()"
   ]
  },
  {
   "cell_type": "code",
   "execution_count": 80,
   "id": "866476db",
   "metadata": {},
   "outputs": [
    {
     "name": "stderr",
     "output_type": "stream",
     "text": [
      "C:\\Users\\Nahuel\\anaconda3\\envs\\Tranajo\\lib\\site-packages\\sklearn\\svm\\_base.py:1208: ConvergenceWarning: Liblinear failed to converge, increase the number of iterations.\n",
      "  ConvergenceWarning,\n"
     ]
    },
    {
     "name": "stdout",
     "output_type": "stream",
     "text": [
      "            0          1\n",
      "184  0.829268  12.458834\n"
     ]
    }
   ],
   "source": [
    "#Computamos Lasso con un bucle para sacar el mejor alpha según r2.\n",
    "\n",
    "alpha = np.logspace(-10,2,200)\n",
    "scores_ = []\n",
    "for a in alpha:\n",
    "    lss = LogisticRegression(penalty=\"l1\", solver='liblinear', C = a)\n",
    "    lss.fit(X_train, Y_train)\n",
    "    sco = lss.score(X_test,Y_test)\n",
    "    scores_.append([sco,a])#Rellenamos el array con el valor de r2 conjuntamente con su alpha\n",
    "    dfscore = pd.DataFrame(scores_)#lo pasamos a dataframe para que sea mas facil trabajar\n",
    "print(dfscore[dfscore[0]== max(dfscore[0])])#La primera fila serían nuestros valores, el r2 seguido por su alpha.\n",
    "\n",
    "vals = np.array(dfscore[dfscore[0]== max(dfscore[0])])#pasamos a array la primera fila, es la que tiene mayor r2 con menor alpha\n",
    "alp = vals[0][1]#Obtenemos unicamente el alpha\n",
    "#Además concluimos que Lasso es difinitivamente el mejor modelo para esta estimación."
   ]
  },
  {
   "cell_type": "code",
   "execution_count": 81,
   "id": "d7cac474",
   "metadata": {},
   "outputs": [
    {
     "data": {
      "text/html": [
       "<div>\n",
       "<style scoped>\n",
       "    .dataframe tbody tr th:only-of-type {\n",
       "        vertical-align: middle;\n",
       "    }\n",
       "\n",
       "    .dataframe tbody tr th {\n",
       "        vertical-align: top;\n",
       "    }\n",
       "\n",
       "    .dataframe thead th {\n",
       "        text-align: right;\n",
       "    }\n",
       "</style>\n",
       "<table border=\"1\" class=\"dataframe\">\n",
       "  <thead>\n",
       "    <tr style=\"text-align: right;\">\n",
       "      <th></th>\n",
       "      <th>variable</th>\n",
       "      <th>rdg</th>\n",
       "      <th>Lasso</th>\n",
       "    </tr>\n",
       "  </thead>\n",
       "  <tbody>\n",
       "    <tr>\n",
       "      <th>0</th>\n",
       "      <td>GENRE 1_Action</td>\n",
       "      <td>-0.136665</td>\n",
       "      <td>-1.743806</td>\n",
       "    </tr>\n",
       "    <tr>\n",
       "      <th>1</th>\n",
       "      <td>GENRE 1_Adventure</td>\n",
       "      <td>-0.331072</td>\n",
       "      <td>-0.952670</td>\n",
       "    </tr>\n",
       "    <tr>\n",
       "      <th>2</th>\n",
       "      <td>GENRE 1_Animation</td>\n",
       "      <td>-0.276610</td>\n",
       "      <td>-3.174617</td>\n",
       "    </tr>\n",
       "    <tr>\n",
       "      <th>3</th>\n",
       "      <td>GENRE 1_Biography</td>\n",
       "      <td>0.543375</td>\n",
       "      <td>6.105661</td>\n",
       "    </tr>\n",
       "    <tr>\n",
       "      <th>4</th>\n",
       "      <td>GENRE 1_Comedy</td>\n",
       "      <td>-0.592592</td>\n",
       "      <td>-3.343937</td>\n",
       "    </tr>\n",
       "    <tr>\n",
       "      <th>...</th>\n",
       "      <td>...</td>\n",
       "      <td>...</td>\n",
       "      <td>...</td>\n",
       "    </tr>\n",
       "    <tr>\n",
       "      <th>990</th>\n",
       "      <td>ACT 5_Zuleyka Silver</td>\n",
       "      <td>-0.064698</td>\n",
       "      <td>0.000000</td>\n",
       "    </tr>\n",
       "    <tr>\n",
       "      <th>991</th>\n",
       "      <td>ACT 5_Çağlar Çorumlu</td>\n",
       "      <td>-0.074998</td>\n",
       "      <td>0.000000</td>\n",
       "    </tr>\n",
       "    <tr>\n",
       "      <th>992</th>\n",
       "      <td>ACT 5_Özge Borak</td>\n",
       "      <td>-0.020665</td>\n",
       "      <td>0.000000</td>\n",
       "    </tr>\n",
       "    <tr>\n",
       "      <th>993</th>\n",
       "      <td>ACT 5_İbrahim Büyükak</td>\n",
       "      <td>-0.080798</td>\n",
       "      <td>0.000000</td>\n",
       "    </tr>\n",
       "    <tr>\n",
       "      <th>994</th>\n",
       "      <td>ACT 5_Şinasi Yurtsever</td>\n",
       "      <td>-0.019238</td>\n",
       "      <td>0.000000</td>\n",
       "    </tr>\n",
       "  </tbody>\n",
       "</table>\n",
       "<p>995 rows × 3 columns</p>\n",
       "</div>"
      ],
      "text/plain": [
       "                   variable       rdg     Lasso\n",
       "0            GENRE 1_Action -0.136665 -1.743806\n",
       "1         GENRE 1_Adventure -0.331072 -0.952670\n",
       "2         GENRE 1_Animation -0.276610 -3.174617\n",
       "3         GENRE 1_Biography  0.543375  6.105661\n",
       "4            GENRE 1_Comedy -0.592592 -3.343937\n",
       "..                      ...       ...       ...\n",
       "990    ACT 5_Zuleyka Silver -0.064698  0.000000\n",
       "991    ACT 5_Çağlar Çorumlu -0.074998  0.000000\n",
       "992        ACT 5_Özge Borak -0.020665  0.000000\n",
       "993   ACT 5_İbrahim Büyükak -0.080798  0.000000\n",
       "994  ACT 5_Şinasi Yurtsever -0.019238  0.000000\n",
       "\n",
       "[995 rows x 3 columns]"
      ]
     },
     "execution_count": 81,
     "metadata": {},
     "output_type": "execute_result"
    }
   ],
   "source": [
    "lssf = LogisticRegression(penalty=\"l1\", solver=\"liblinear\", C = alp)#Computamos ahora si Lasso\n",
    "lssf.fit(X_train,Y_train)\n",
    "df_params[\"Lasso\"] = lssf.coef_.reshape(-1,1)\n",
    "df_params.head()#Podemos obsevar los coeficientes de Lasso"
   ]
  },
  {
   "cell_type": "code",
   "execution_count": 82,
   "id": "da23e61b",
   "metadata": {},
   "outputs": [
    {
     "data": {
      "text/html": [
       "<div>\n",
       "<style scoped>\n",
       "    .dataframe tbody tr th:only-of-type {\n",
       "        vertical-align: middle;\n",
       "    }\n",
       "\n",
       "    .dataframe tbody tr th {\n",
       "        vertical-align: top;\n",
       "    }\n",
       "\n",
       "    .dataframe thead th {\n",
       "        text-align: right;\n",
       "    }\n",
       "</style>\n",
       "<table border=\"1\" class=\"dataframe\">\n",
       "  <thead>\n",
       "    <tr style=\"text-align: right;\">\n",
       "      <th></th>\n",
       "      <th>variable</th>\n",
       "      <th>rdg</th>\n",
       "      <th>Lasso</th>\n",
       "      <th>RFE15</th>\n",
       "    </tr>\n",
       "  </thead>\n",
       "  <tbody>\n",
       "    <tr>\n",
       "      <th>0</th>\n",
       "      <td>GENRE 1_Action</td>\n",
       "      <td>-0.136665</td>\n",
       "      <td>-1.743806</td>\n",
       "      <td>NaN</td>\n",
       "    </tr>\n",
       "    <tr>\n",
       "      <th>1</th>\n",
       "      <td>GENRE 1_Adventure</td>\n",
       "      <td>-0.331072</td>\n",
       "      <td>-0.952670</td>\n",
       "      <td>-0.866245</td>\n",
       "    </tr>\n",
       "    <tr>\n",
       "      <th>2</th>\n",
       "      <td>GENRE 1_Animation</td>\n",
       "      <td>-0.276610</td>\n",
       "      <td>-3.174617</td>\n",
       "      <td>NaN</td>\n",
       "    </tr>\n",
       "    <tr>\n",
       "      <th>3</th>\n",
       "      <td>GENRE 1_Biography</td>\n",
       "      <td>0.543375</td>\n",
       "      <td>6.105661</td>\n",
       "      <td>1.600378</td>\n",
       "    </tr>\n",
       "    <tr>\n",
       "      <th>4</th>\n",
       "      <td>GENRE 1_Comedy</td>\n",
       "      <td>-0.592592</td>\n",
       "      <td>-3.343937</td>\n",
       "      <td>-1.300968</td>\n",
       "    </tr>\n",
       "    <tr>\n",
       "      <th>...</th>\n",
       "      <td>...</td>\n",
       "      <td>...</td>\n",
       "      <td>...</td>\n",
       "      <td>...</td>\n",
       "    </tr>\n",
       "    <tr>\n",
       "      <th>990</th>\n",
       "      <td>ACT 5_Zuleyka Silver</td>\n",
       "      <td>-0.064698</td>\n",
       "      <td>0.000000</td>\n",
       "      <td>NaN</td>\n",
       "    </tr>\n",
       "    <tr>\n",
       "      <th>991</th>\n",
       "      <td>ACT 5_Çağlar Çorumlu</td>\n",
       "      <td>-0.074998</td>\n",
       "      <td>0.000000</td>\n",
       "      <td>NaN</td>\n",
       "    </tr>\n",
       "    <tr>\n",
       "      <th>992</th>\n",
       "      <td>ACT 5_Özge Borak</td>\n",
       "      <td>-0.020665</td>\n",
       "      <td>0.000000</td>\n",
       "      <td>NaN</td>\n",
       "    </tr>\n",
       "    <tr>\n",
       "      <th>993</th>\n",
       "      <td>ACT 5_İbrahim Büyükak</td>\n",
       "      <td>-0.080798</td>\n",
       "      <td>0.000000</td>\n",
       "      <td>NaN</td>\n",
       "    </tr>\n",
       "    <tr>\n",
       "      <th>994</th>\n",
       "      <td>ACT 5_Şinasi Yurtsever</td>\n",
       "      <td>-0.019238</td>\n",
       "      <td>0.000000</td>\n",
       "      <td>NaN</td>\n",
       "    </tr>\n",
       "  </tbody>\n",
       "</table>\n",
       "<p>995 rows × 4 columns</p>\n",
       "</div>"
      ],
      "text/plain": [
       "                   variable       rdg     Lasso     RFE15\n",
       "0            GENRE 1_Action -0.136665 -1.743806       NaN\n",
       "1         GENRE 1_Adventure -0.331072 -0.952670 -0.866245\n",
       "2         GENRE 1_Animation -0.276610 -3.174617       NaN\n",
       "3         GENRE 1_Biography  0.543375  6.105661  1.600378\n",
       "4            GENRE 1_Comedy -0.592592 -3.343937 -1.300968\n",
       "..                      ...       ...       ...       ...\n",
       "990    ACT 5_Zuleyka Silver -0.064698  0.000000       NaN\n",
       "991    ACT 5_Çağlar Çorumlu -0.074998  0.000000       NaN\n",
       "992        ACT 5_Özge Borak -0.020665  0.000000       NaN\n",
       "993   ACT 5_İbrahim Büyükak -0.080798  0.000000       NaN\n",
       "994  ACT 5_Şinasi Yurtsever -0.019238  0.000000       NaN\n",
       "\n",
       "[995 rows x 4 columns]"
      ]
     },
     "execution_count": 82,
     "metadata": {},
     "output_type": "execute_result"
    }
   ],
   "source": [
    "#creamos un dataframe para ver todos los coeficientes.\n",
    "df_params = pd.merge(left = df_params, right = df_coeff15, left_on = \"variable\", right_on = \"variable\", how = \"left\")\n",
    "df_params.head()"
   ]
  },
  {
   "cell_type": "markdown",
   "id": "79b7a272",
   "metadata": {},
   "source": [
    "Podemos observar que las variables que Lasso no convirtió en 0 coinciden con las 15 variables elegidas con RFE."
   ]
  },
  {
   "cell_type": "markdown",
   "id": "262bcf45",
   "metadata": {},
   "source": [
    "## K Nearest Neighbors\n",
    "Como último modelo usamremos KNN."
   ]
  },
  {
   "cell_type": "code",
   "execution_count": 83,
   "id": "c6644578",
   "metadata": {},
   "outputs": [],
   "source": [
    "from sklearn.neighbors import KNeighborsClassifier"
   ]
  },
  {
   "cell_type": "code",
   "execution_count": 84,
   "id": "94c42f79",
   "metadata": {},
   "outputs": [],
   "source": [
    "#Usaremos la versión de entrenamiento de X y state para agilizar el análisis\n",
    "# X_test,X_train,Y_train, Y_test"
   ]
  },
  {
   "cell_type": "code",
   "execution_count": 85,
   "id": "bbc23db7",
   "metadata": {},
   "outputs": [],
   "source": [
    "Knn = KNeighborsClassifier().fit(X_train, Y_train)"
   ]
  },
  {
   "cell_type": "code",
   "execution_count": 86,
   "id": "13c59a35",
   "metadata": {},
   "outputs": [],
   "source": [
    "accuracy = Knn.score(X_test, Y_test)"
   ]
  },
  {
   "cell_type": "code",
   "execution_count": 87,
   "id": "5c2c930c",
   "metadata": {},
   "outputs": [
    {
     "data": {
      "text/plain": [
       "0.7317073170731707"
      ]
     },
     "execution_count": 87,
     "metadata": {},
     "output_type": "execute_result"
    }
   ],
   "source": [
    "accuracy#Vemos que es casi tan bueno como la regresión logísitica y SVC"
   ]
  },
  {
   "cell_type": "markdown",
   "id": "eca93312",
   "metadata": {},
   "source": [
    "## Conclusión\n",
    "Para concluir el proyecto diremos que parece ser que reclasificar Y conjuntamente con Lasso es la mejor forma de tratar este modelo, además de que las variables escogidas con RFE coindicen con las elegidas por Lasso.\n",
    "Para finalizar computaremos un dataframe completo con las etiquetas según cada modelo."
   ]
  },
  {
   "cell_type": "code",
   "execution_count": 88,
   "id": "fd996828",
   "metadata": {},
   "outputs": [],
   "source": [
    "#Juntamos todo\n",
    "df[\"Forest\"] = forest2.predict(X)\n",
    "df[\"SVC\"] = clf2.predict(X)\n",
    "df[\"RFE15\"] = lr15.predict(Xf)\n",
    "df[\"Ridge\"] = rdg.predict(X)\n",
    "df[\"Lasso\"] = lssf.predict(X)\n",
    "df[\"KNN\"] = Knn.predict(X)\n",
    "df[\"Title\"] = start[\"TITLE\"]\n",
    "df = df[[\"Forest\",\"SVC\",\"RFE15\",\"Ridge\",\"Lasso\",\"KNN\",\"Title\"]]\n",
    "df_final = pd.merge(left = start.dropna(), right = df, left_on = \"TITLE\", right_on = \"Title\", how = \"left\")\n",
    "df_final = df_final.drop([\"Title\"], axis = 1)#Dropeamos para que no quede dos veces el mismo título\n",
    "df_final[\"True\"] = state#El Y verdadero, según lo aclaramos cuando realizamos la función lambda"
   ]
  },
  {
   "cell_type": "code",
   "execution_count": 89,
   "id": "6b7ce1d3",
   "metadata": {
    "scrolled": true
   },
   "outputs": [
    {
     "data": {
      "text/html": [
       "<div>\n",
       "<style scoped>\n",
       "    .dataframe tbody tr th:only-of-type {\n",
       "        vertical-align: middle;\n",
       "    }\n",
       "\n",
       "    .dataframe tbody tr th {\n",
       "        vertical-align: top;\n",
       "    }\n",
       "\n",
       "    .dataframe thead th {\n",
       "        text-align: right;\n",
       "    }\n",
       "</style>\n",
       "<table border=\"1\" class=\"dataframe\">\n",
       "  <thead>\n",
       "    <tr style=\"text-align: right;\">\n",
       "      <th></th>\n",
       "      <th>RNK</th>\n",
       "      <th>TITLE</th>\n",
       "      <th>RATE</th>\n",
       "      <th>DIRECTOR</th>\n",
       "      <th>YEAR</th>\n",
       "      <th>GENRE 1</th>\n",
       "      <th>GENRE 2</th>\n",
       "      <th>ACT 1</th>\n",
       "      <th>ACT 2</th>\n",
       "      <th>ACT 3</th>\n",
       "      <th>ACT 4</th>\n",
       "      <th>ACT 5</th>\n",
       "      <th>Forest</th>\n",
       "      <th>SVC</th>\n",
       "      <th>RFE15</th>\n",
       "      <th>Ridge</th>\n",
       "      <th>Lasso</th>\n",
       "      <th>KNN</th>\n",
       "      <th>True</th>\n",
       "    </tr>\n",
       "  </thead>\n",
       "  <tbody>\n",
       "    <tr>\n",
       "      <th>0</th>\n",
       "      <td>1</td>\n",
       "      <td>The Prestige</td>\n",
       "      <td>10.0</td>\n",
       "      <td>Christopher Nolan</td>\n",
       "      <td>2006</td>\n",
       "      <td>Mystery</td>\n",
       "      <td>Sci-Fi</td>\n",
       "      <td>Christian Bale</td>\n",
       "      <td>Hugh Jackman</td>\n",
       "      <td>Michael Caine</td>\n",
       "      <td>Scarlett Johansson</td>\n",
       "      <td>Andy Serkis</td>\n",
       "      <td>1</td>\n",
       "      <td>1</td>\n",
       "      <td>1</td>\n",
       "      <td>1</td>\n",
       "      <td>1</td>\n",
       "      <td>1</td>\n",
       "      <td>1</td>\n",
       "    </tr>\n",
       "    <tr>\n",
       "      <th>1</th>\n",
       "      <td>2</td>\n",
       "      <td>Interstellar</td>\n",
       "      <td>10.0</td>\n",
       "      <td>Christopher Nolan</td>\n",
       "      <td>2014</td>\n",
       "      <td>Sci-Fi</td>\n",
       "      <td>Adventure</td>\n",
       "      <td>Matthew McConaughey</td>\n",
       "      <td>Anne Hathaway</td>\n",
       "      <td>Michael Caine</td>\n",
       "      <td>Jessica Chastain</td>\n",
       "      <td>Timothée Chalamet</td>\n",
       "      <td>1</td>\n",
       "      <td>1</td>\n",
       "      <td>1</td>\n",
       "      <td>1</td>\n",
       "      <td>1</td>\n",
       "      <td>1</td>\n",
       "      <td>1</td>\n",
       "    </tr>\n",
       "    <tr>\n",
       "      <th>2</th>\n",
       "      <td>3</td>\n",
       "      <td>Inception</td>\n",
       "      <td>10.0</td>\n",
       "      <td>Christopher Nolan</td>\n",
       "      <td>2010</td>\n",
       "      <td>Sci-Fi</td>\n",
       "      <td>Adventure</td>\n",
       "      <td>Leonardo DiCaprio</td>\n",
       "      <td>Cillian Murphy</td>\n",
       "      <td>Michael Caine</td>\n",
       "      <td>Marion Cotillard</td>\n",
       "      <td>Joseph Gordon-Levitt</td>\n",
       "      <td>1</td>\n",
       "      <td>1</td>\n",
       "      <td>1</td>\n",
       "      <td>1</td>\n",
       "      <td>1</td>\n",
       "      <td>1</td>\n",
       "      <td>1</td>\n",
       "    </tr>\n",
       "    <tr>\n",
       "      <th>3</th>\n",
       "      <td>5</td>\n",
       "      <td>Predestination</td>\n",
       "      <td>9.0</td>\n",
       "      <td>Michal Spierig</td>\n",
       "      <td>2014</td>\n",
       "      <td>Sci-Fi</td>\n",
       "      <td>Drama</td>\n",
       "      <td>Ethan Hawke</td>\n",
       "      <td>Noah Taylor</td>\n",
       "      <td>Sarah Snook</td>\n",
       "      <td>Madeleine West</td>\n",
       "      <td>Christopher Kirby</td>\n",
       "      <td>1</td>\n",
       "      <td>1</td>\n",
       "      <td>0</td>\n",
       "      <td>1</td>\n",
       "      <td>1</td>\n",
       "      <td>1</td>\n",
       "      <td>1</td>\n",
       "    </tr>\n",
       "    <tr>\n",
       "      <th>4</th>\n",
       "      <td>6</td>\n",
       "      <td>Rush</td>\n",
       "      <td>9.0</td>\n",
       "      <td>Ron Howard</td>\n",
       "      <td>2013</td>\n",
       "      <td>Biography</td>\n",
       "      <td>Sport</td>\n",
       "      <td>Chris Hemsworth</td>\n",
       "      <td>Daniel Brühl</td>\n",
       "      <td>Olivia Wilde</td>\n",
       "      <td>Alexandra Maria Lara</td>\n",
       "      <td>Natalie Dormer</td>\n",
       "      <td>1</td>\n",
       "      <td>1</td>\n",
       "      <td>1</td>\n",
       "      <td>1</td>\n",
       "      <td>1</td>\n",
       "      <td>1</td>\n",
       "      <td>1</td>\n",
       "    </tr>\n",
       "  </tbody>\n",
       "</table>\n",
       "</div>"
      ],
      "text/plain": [
       "   RNK           TITLE  RATE           DIRECTOR  YEAR    GENRE 1    GENRE 2  \\\n",
       "0    1    The Prestige  10.0  Christopher Nolan  2006    Mystery     Sci-Fi   \n",
       "1    2    Interstellar  10.0  Christopher Nolan  2014     Sci-Fi  Adventure   \n",
       "2    3       Inception  10.0  Christopher Nolan  2010     Sci-Fi  Adventure   \n",
       "3    5  Predestination   9.0     Michal Spierig  2014     Sci-Fi      Drama   \n",
       "4    6            Rush   9.0         Ron Howard  2013  Biography      Sport   \n",
       "\n",
       "                 ACT 1           ACT 2          ACT 3                 ACT 4  \\\n",
       "0       Christian Bale    Hugh Jackman  Michael Caine    Scarlett Johansson   \n",
       "1  Matthew McConaughey   Anne Hathaway  Michael Caine      Jessica Chastain   \n",
       "2    Leonardo DiCaprio  Cillian Murphy  Michael Caine      Marion Cotillard   \n",
       "3          Ethan Hawke     Noah Taylor    Sarah Snook        Madeleine West   \n",
       "4      Chris Hemsworth    Daniel Brühl   Olivia Wilde  Alexandra Maria Lara   \n",
       "\n",
       "                  ACT 5  Forest  SVC  RFE15  Ridge  Lasso  KNN  True  \n",
       "0           Andy Serkis       1    1      1      1      1    1     1  \n",
       "1     Timothée Chalamet       1    1      1      1      1    1     1  \n",
       "2  Joseph Gordon-Levitt       1    1      1      1      1    1     1  \n",
       "3     Christopher Kirby       1    1      0      1      1    1     1  \n",
       "4        Natalie Dormer       1    1      1      1      1    1     1  "
      ]
     },
     "execution_count": 89,
     "metadata": {},
     "output_type": "execute_result"
    }
   ],
   "source": [
    "df_final.head()#podemos ver la clasificación según modelo"
   ]
  },
  {
   "cell_type": "markdown",
   "id": "9707c2fd",
   "metadata": {},
   "source": [
    "By: Nahuel Cedrés Torres https://www.linkedin.com/in/nahuel-cedr%C3%A9s/"
   ]
  }
 ],
 "metadata": {
  "kernelspec": {
   "display_name": "Python 3 (ipykernel)",
   "language": "python",
   "name": "python3"
  },
  "language_info": {
   "codemirror_mode": {
    "name": "ipython",
    "version": 3
   },
   "file_extension": ".py",
   "mimetype": "text/x-python",
   "name": "python",
   "nbconvert_exporter": "python",
   "pygments_lexer": "ipython3",
   "version": "3.7.11"
  }
 },
 "nbformat": 4,
 "nbformat_minor": 5
}
